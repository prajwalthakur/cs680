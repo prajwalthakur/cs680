{
 "cells": [
  {
   "cell_type": "code",
   "execution_count": 1,
   "id": "2e25e8bb-e586-4130-bd6a-8099678c68a8",
   "metadata": {},
   "outputs": [
    {
     "name": "stdout",
     "output_type": "stream",
     "text": [
      "device= cuda\n"
     ]
    },
    {
     "data": {
      "text/plain": [
       "<torch._C.Generator at 0x77b844007af0>"
      ]
     },
     "execution_count": 1,
     "metadata": {},
     "output_type": "execute_result"
    }
   ],
   "source": [
    "import torch\n",
    "import torchvision\n",
    "import torchvision.datasets as datasets\n",
    "import torch.nn as nn\n",
    "import torch.nn.functional as F\n",
    "import torch.optim as optim\n",
    "\n",
    "import matplotlib\n",
    "import matplotlib.pyplot as plt\n",
    "import matplotlib.ticker as mtick\n",
    "\n",
    "import numpy as np\n",
    "import math\n",
    "\n",
    "%matplotlib inline\n",
    "device = 'cuda' if torch.cuda.is_available() else 'cpu'\n",
    "print(\"device=\",device)\n",
    "random_seed = 1\n",
    "torch.backends.cudnn.enabled = False\n",
    "torch.manual_seed(random_seed)"
   ]
  },
  {
   "cell_type": "code",
   "execution_count": 4,
   "id": "c7b6596a-0ec0-4142-a85c-8e1a4cf0e207",
   "metadata": {},
   "outputs": [],
   "source": [
    "class vggNet(torch.nn.Module):\n",
    "    def __init__(self,in_channels=1,num_classes=10):\n",
    "        self.in_channels = in_channels\n",
    "        self.num_classes = num_classes\n",
    "        \n",
    "        super(vggNet,self).__init__()\n",
    "        self.conv_layers = nn.Sequential(\n",
    "\n",
    "            nn.Conv2d(self.in_channels,64,kernel_size=3,stride=1,padding=1),\n",
    "            nn.BatchNorm2d(64),\n",
    "            nn.ReLU(),\n",
    "            nn.MaxPool2d(kernel_size=2,stride=2),\n",
    "           \n",
    "            \n",
    "            nn.Conv2d(64,128,kernel_size=3,stride=1,padding=1),\n",
    "            nn.BatchNorm2d(128),\n",
    "            nn.ReLU(),\n",
    "            nn.MaxPool2d(kernel_size=2,stride=2),\n",
    "            \n",
    "            nn.Conv2d(128,256,kernel_size=3,stride=1,padding=1),\n",
    "            nn.BatchNorm2d(256),\n",
    "            nn.ReLU(),\n",
    "            \n",
    "            nn.Conv2d(256,256,kernel_size=3,stride=1,padding=1),\n",
    "            nn.BatchNorm2d(256),\n",
    "            nn.ReLU(),\n",
    "            nn.MaxPool2d(kernel_size=2,stride=2),\n",
    "\n",
    "            nn.Conv2d(256,512,kernel_size=3,stride=1,padding=1),\n",
    "            nn.BatchNorm2d(512),\n",
    "            nn.ReLU(),\n",
    "            \n",
    "            nn.Conv2d(512,512,kernel_size=3,stride=1,padding=1),\n",
    "            nn.BatchNorm2d(512),\n",
    "            nn.ReLU(),\n",
    "            nn.MaxPool2d(kernel_size=2,stride=2),\n",
    "\n",
    "            nn.Conv2d(512,512,kernel_size=3,stride=1,padding=1),\n",
    "            nn.BatchNorm2d(512),\n",
    "            nn.ReLU(),\n",
    "\n",
    "            nn.Conv2d(512,512,kernel_size=3,stride=1,padding=1),\n",
    "            nn.BatchNorm2d(512),\n",
    "            nn.ReLU(),\n",
    "            nn.MaxPool2d(kernel_size=2,stride=2),\n",
    "        )\n",
    "        self.linear_layers = nn.Sequential(\n",
    "            nn.Linear(in_features=512,out_features=4096),\n",
    "            nn.ReLU(),\n",
    "            nn.Dropout1d(0.5),\n",
    "            nn.Linear(in_features=4096,out_features=4096),\n",
    "            nn.ReLU(),\n",
    "            nn.Dropout1d(0.5),\n",
    "            nn.Linear(4096,self.num_classes)\n",
    "\n",
    "            )\n",
    "        self.criterion = nn.CrossEntropyLoss()\n",
    "        self.optimizer  = optim.SGD(self.parameters(),lr=0.001,momentum=0.9)\n",
    "    def forward(self,x):\n",
    "        x=self.conv_layers(x)\n",
    "        x = x.view(x.size(0), -1)\n",
    "        x = self.linear_layers(x)\n",
    "        return x\n",
    "    def do_train(self,train_data_loder,test_data_loder,num_epochs,batch_size,device):\n",
    "        train_len = len(train_data_loder)*batch_size\n",
    "        test_len = len(test_data_loder)*batch_size\n",
    "        total_step = len(train_data_loder)*batch_size\n",
    "        # Record loss\n",
    "        train_loss = []\n",
    "        test_loss =  []\n",
    "\n",
    "        # Record accuracy\n",
    "        train_accuracy  = []\n",
    "        test_accuracy = []\n",
    "        \n",
    "        for epoch in range(num_epochs):\n",
    "            # training the model \n",
    "            self.train()\n",
    "            for i,(images,labels) in enumerate(train_data_loder):\n",
    "                #move the input data to device\n",
    "                images=images.to(device)\n",
    "                labels=labels.to(device)\n",
    "                print('*'*20, torch.mean(images[0]))\n",
    "                #run the model on the input data\n",
    "                outputs = model(images)\n",
    "                # cal the loss\n",
    "                loss = self.criterion(outputs,labels)\n",
    "                # backprop\n",
    "                self.optimizer.zero_grad()\n",
    "                # do backprop\n",
    "                loss.backward()\n",
    "                # update the params\n",
    "                self.optimizer.step() \n",
    "            #  evaluating the model to compute the training, testing  accuracy, and loss  at the current epoch\n",
    "            self.eval()\n",
    "            correct_predictions =0\n",
    "            loss = 0\n",
    "            with torch.no_grad():\n",
    "                for data in train_data_loder:\n",
    "                    #accuracy\n",
    "                    images,true_labels = data\n",
    "                    images,true_labels = images.to(device),true_labels.to(device)\n",
    "                    nn_outputs=self(images).to(device)\n",
    "                    _,predicted = torch.max(nn_outputs.data,1)\n",
    "                    correct_predictions += (predicted == true_labels).sum().item()\n",
    "                    #loss\n",
    "                    loss += self.criterion(nn_outputs,true_labels).item()\n",
    "            train_loss.append( loss / train_len )\n",
    "            train_accuracy.append(correct_predictions / train_len )\n",
    "            train_acc_i = correct_predictions / train_len \n",
    "            # For Test accuracy and test loss\n",
    "            correct_predictions =0\n",
    "            loss = 0\n",
    "            with torch.no_grad():\n",
    "                for data in test_data_loder:\n",
    "                    #accuracy\n",
    "                    images,true_labels = data\n",
    "                    images,true_labels = images.to(device),true_labels.to(device)\n",
    "                    nn_outputs=self(images).to(device)\n",
    "                    _,predicted = torch.max(nn_outputs.data,1)\n",
    "                    correct_predictions += (predicted == true_labels).sum().item()\n",
    "                    #loss\n",
    "                    loss += self.criterion(nn_outputs,true_labels).item()\n",
    "            test_loss.append( loss / test_len )\n",
    "            test_accuracy.append(correct_predictions / test_len )\n",
    "            test_acc_i = correct_predictions / test_len \n",
    "            print(f'Epoch done [{epoch+1}], training-Acccuracy: {train_acc_i:.4f} , testing-accuracy:{test_acc_i }')\n",
    "        print('Finished')\n",
    "        return train_loss, train_accuracy, test_loss, test_accuracy\n",
    "    def evaluate_(self,eval_datas,batch_size,device): \n",
    "        self.eval()\n",
    "        correct_predictions =0\n",
    "        loss = 0\n",
    "        test_loss = []\n",
    "        test_accuracy = []\n",
    "        test_len = len(eval_datas)*batch_size\n",
    "        with torch.no_grad():\n",
    "            for data in eval_datas:\n",
    "                #accuracy\n",
    "                images,true_labels = data\n",
    "                images,true_labels = images.to(device),true_labels.to(device)\n",
    "                nn_outputs=self(images).to(device)\n",
    "                _,predicted = torch.max(nn_outputs.data,1)\n",
    "                correct_predictions += (predicted == true_labels).sum().item()\n",
    "                #loss\n",
    "                loss += self.criterion(nn_outputs,true_labels).item()\n",
    "        test_loss.append( loss / test_len )\n",
    "        test_accuracy.append(correct_predictions / test_len )\n",
    "        test_acc_i = correct_predictions / test_len \n",
    "        return test_loss,test_accuracy"
   ]
  },
  {
   "cell_type": "code",
   "execution_count": 3,
   "id": "adc417ba-ac7d-4c1a-b5a2-99f7c2270dd9",
   "metadata": {},
   "outputs": [],
   "source": [
    "PATH = './model_2a'\n",
    "model = torch.load(PATH,map_location=torch.device(device))\n",
    "batchSize  = 1"
   ]
  },
  {
   "cell_type": "markdown",
   "id": "a802702a-fd9c-4ae0-a6be-21540a2c686c",
   "metadata": {},
   "source": [
    "# Horizontal flip"
   ]
  },
  {
   "cell_type": "code",
   "execution_count": 5,
   "id": "d0b3e508-2c91-4207-8bc2-abf2a03697e3",
   "metadata": {},
   "outputs": [],
   "source": [
    "testing_tensor = torch.utils.data.DataLoader(\n",
    "torchvision.datasets.MNIST(root='./data', train=False, download=True,\n",
    "                             transform=torchvision.transforms.Compose([\n",
    "                               torchvision.transforms.ToTensor(),\n",
    "                                 torchvision.transforms.Resize((32,32)),\n",
    "                                  torchvision.transforms.Normalize(mean=0.1307,std=0.3081),\n",
    "                                 torchvision.transforms.RandomHorizontalFlip(p=1)\n",
    "                             ])),\n",
    "                            batch_size = batchSize\n",
    "                                )\n",
    "test_loss_horizontal,test_accuracy_horizontal=model.evaluate_(testing_tensor,batchSize,device)"
   ]
  },
  {
   "cell_type": "markdown",
   "id": "fdf3d9c8-41dc-4a1a-8e47-bb6b6bf84c84",
   "metadata": {},
   "source": [
    "# Vertical Flip"
   ]
  },
  {
   "cell_type": "code",
   "execution_count": 6,
   "id": "18b16edb-3dc8-4b3a-91aa-f8b9c2b1f259",
   "metadata": {},
   "outputs": [],
   "source": [
    "testing_tensor = torch.utils.data.DataLoader(\n",
    "torchvision.datasets.MNIST(root='./data', train=False, download=True,\n",
    "                             transform=torchvision.transforms.Compose([\n",
    "                               torchvision.transforms.ToTensor(),\n",
    "                                 torchvision.transforms.Resize((32,32)),\n",
    "                                 torchvision.transforms.Normalize(mean=0.1307,std=0.3081),\n",
    "                                 torchvision.transforms.RandomVerticalFlip(p=1)\n",
    "                             ])),\n",
    "                            batch_size = batchSize)\n",
    "test_loss_vertical,test_accuracy_vertical=model.evaluate_(testing_tensor,batchSize,device)"
   ]
  },
  {
   "cell_type": "code",
   "execution_count": 7,
   "id": "5743918f-4dfe-4e6d-8ece-3b0599944898",
   "metadata": {},
   "outputs": [
    {
     "data": {
      "image/png": "[encoded data removed]",
      "text/plain": [
       "<Figure size 640x480 with 1 Axes>"
      ]
     },
     "metadata": {},
     "output_type": "display_data"
    }
   ],
   "source": [
    "plt.bar([\"Horizontal Flip\", \"Vertical Flip\"],[test_accuracy_horizontal[0]*100, test_accuracy_vertical[0]*100])\n",
    "plt.title('Test accuracy vs type of flip')\n",
    "plt.xlabel('Type')\n",
    "plt.ylabel('Test accuracy')\n",
    "plt.gca().yaxis.set_major_formatter(mtick.PercentFormatter())\n",
    "plt.savefig('E2Q3_e')"
   ]
  },
  {
   "cell_type": "markdown",
   "id": "9e8778d7-34b9-4f5f-80e6-52313df1ac76",
   "metadata": {},
   "source": [
    "# Gaussian"
   ]
  },
  {
   "cell_type": "code",
   "execution_count": 8,
   "id": "506f301e-1bce-479d-9000-90babf26bf42",
   "metadata": {},
   "outputs": [
    {
     "name": "stdout",
     "output_type": "stream",
     "text": [
      "accuracy with 0.01 gaussian noise is 98.69%\n"
     ]
    }
   ],
   "source": [
    "# # Gaussian 0.01\n",
    "batchSize=1\n",
    "testing_tensor = torch.utils.data.DataLoader(\n",
    "torchvision.datasets.MNIST(root='./data', train=False, download=True,\n",
    "                             transform=torchvision.transforms.Compose([\n",
    "                               torchvision.transforms.ToTensor(),\n",
    "                                 torchvision.transforms.Resize((32,32)),\n",
    "                                 torchvision.transforms.Normalize(mean=0.1307,std=0.3081),\n",
    "                                 torchvision.transforms.Lambda(lambda x : x + 0.1*torch.randn_like(x))\n",
    "                             ])),\n",
    "                            batch_size = batchSize)\n",
    "_,gaussian_001=model.evaluate_(testing_tensor,batchSize,device)\n",
    "gg_loss001= gaussian_001[0]*100\n",
    "print('accuracy with 0.01 gaussian noise is %.2f%%'% gg_loss001)"
   ]
  },
  {
   "cell_type": "code",
   "execution_count": 9,
   "id": "b79778d2-2c03-461f-ad75-b3bd9fc2b412",
   "metadata": {},
   "outputs": [
    {
     "name": "stdout",
     "output_type": "stream",
     "text": [
      "accuracy with 0.1 gaussian noise is 95.42%\n"
     ]
    }
   ],
   "source": [
    "# Gaussian 0.1\n",
    "batchSize=1\n",
    "testing_tensor = torch.utils.data.DataLoader(\n",
    "torchvision.datasets.MNIST(root='./data', train=False, download=True,\n",
    "                             transform=torchvision.transforms.Compose([\n",
    "                               torchvision.transforms.ToTensor(),\n",
    "                                 torchvision.transforms.Resize((32,32)),\n",
    "                                 torchvision.transforms.Normalize(mean=0.1307,std=0.3081),\n",
    "                                 torchvision.transforms.Lambda(lambda x : x + math.sqrt(0.1)*torch.randn_like(x))\n",
    "                             ])),\n",
    "                            batch_size = batchSize)\n",
    "_,gaussian_01=model.evaluate_(testing_tensor,batchSize,device)\n",
    "gg_loss01= gaussian_01[0]*100\n",
    "print('accuracy with 0.1 gaussian noise is %.2f%%'% gg_loss01)"
   ]
  },
  {
   "cell_type": "code",
   "execution_count": 10,
   "id": "3dea7c2a-8cb7-4211-9bf7-831f7d003a5d",
   "metadata": {},
   "outputs": [
    {
     "name": "stdout",
     "output_type": "stream",
     "text": [
      "accuracy with 1 gaussian noise is 9.74%\n"
     ]
    }
   ],
   "source": [
    "# Gaussian 1\n",
    "batchSize=1\n",
    "testing_tensor = torch.utils.data.DataLoader(\n",
    "torchvision.datasets.MNIST(root='./data', train=False, download=True,\n",
    "                             transform=torchvision.transforms.Compose([\n",
    "                               torchvision.transforms.ToTensor(),\n",
    "                                 torchvision.transforms.Resize((32,32)),\n",
    "                                 torchvision.transforms.Lambda(lambda x : x + 1*torch.randn_like(x))\n",
    "                             ])),\n",
    "                            batch_size = batchSize)\n",
    "_,gaussian_1=model.evaluate_(testing_tensor,batchSize,device)\n",
    "gg_loss1= gaussian_1[0]*100\n",
    "print('accuracy with 1 gaussian noise is %.2f%%'% gg_loss1)"
   ]
  },
  {
   "cell_type": "code",
   "execution_count": 12,
   "id": "c04fce8a-de38-49cd-97d5-3a68e4c7302b",
   "metadata": {},
   "outputs": [
    {
     "data": {
      "image/png": "[encoded data removed]",
      "text/plain": [
       "<Figure size 640x480 with 1 Axes>"
      ]
     },
     "metadata": {},
     "output_type": "display_data"
    }
   ],
   "source": [
    "plt.bar([\"v = 0.01\", \"v = 0.1\", \"v = 1\"],[gg_loss001, gg_loss01, gg_loss1])\n",
    "plt.title('Test accuracy vs gaussian noise')\n",
    "plt.xlabel('Noise variance')\n",
    "plt.ylabel('Test accuracy')\n",
    "plt.gca().yaxis.set_major_formatter(mtick.PercentFormatter())\n",
    "plt.savefig('E2Q3_f')"
   ]
  }
 ],
 "metadata": {
  "kernelspec": {
   "display_name": "pytorch_gpu",
   "language": "python",
   "name": "pytorch_gpu"
  },
  "language_info": {
   "codemirror_mode": {
    "name": "ipython",
    "version": 3
   },
   "file_extension": ".py",
   "mimetype": "text/x-python",
   "name": "python",
   "nbconvert_exporter": "python",
   "pygments_lexer": "ipython3",
   "version": "3.12.2"
  }
 },
 "nbformat": 4,
 "nbformat_minor": 5
}
