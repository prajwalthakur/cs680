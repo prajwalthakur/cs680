{
 "cells": [
  {
   "cell_type": "markdown",
   "id": "70060883",
   "metadata": {},
   "source": [
    "## Data loading for default of credit card clients dataset "
   ]
  },
  {
   "cell_type": "markdown",
   "id": "d3284637",
   "metadata": {},
   "source": [
    "To use the data, simply load the pickle file"
   ]
  },
  {
   "cell_type": "code",
   "execution_count": 4,
   "id": "7fec513c",
   "metadata": {},
   "outputs": [],
   "source": [
    "import pickle\n",
    "with open(\"train_test_split.pkl\", \"br\") as fh:\n",
    "    data = pickle.load(fh)\n",
    "train_data = data[0]\n",
    "test_data = data[1]\n",
    "\n",
    "train_x = train_data[:,:23]\n",
    "train_y = train_data[:,23] # labels are either 0 or 1\n",
    "test_x = test_data[:,:23]\n",
    "test_y = test_data[:,23] # labels are either 0 or 1"
   ]
  },
  {
   "cell_type": "markdown",
   "id": "1e0f6213",
   "metadata": {},
   "source": [
    "# converting the labels to +-1 "
   ]
  },
  {
   "cell_type": "code",
   "execution_count": 6,
   "id": "ce6161c7",
   "metadata": {},
   "outputs": [],
   "source": [
    "train_y = 2*train_y - 1\n",
    "test_y = 2*test_y -1"
   ]
  },
  {
   "cell_type": "code",
   "execution_count": 11,
   "id": "fbd0773d",
   "metadata": {},
   "outputs": [],
   "source": [
    "import numpy as np"
   ]
  },
  {
   "cell_type": "markdown",
   "id": "9eb8bcff",
   "metadata": {},
   "source": [
    "# weak classifier"
   ]
  },
  {
   "cell_type": "code",
   "execution_count": 25,
   "id": "c96b7f8d",
   "metadata": {},
   "outputs": [],
   "source": [
    "# h_j = sign(x_j-m_j)\n",
    "def given_weak_classifier(j,X):\n",
    "    #X : nxd \n",
    "    #j : jth feature <=d\n",
    "    # return \n",
    "    # h_j = nx1 classifier\n",
    "    X_j = X[:,j]\n",
    "    M_j = np.median(X_j) \n",
    "    h_j_temp  = X_j - M_j\n",
    "    h_j  = np.where(h_j_temp >= 0, 1, -1)\n",
    "    return h_j"
   ]
  },
  {
   "cell_type": "code",
   "execution_count": 26,
   "id": "7f58af13",
   "metadata": {},
   "outputs": [],
   "source": [
    "h_j_1 = given_weak_classifier(j=1,X=train_x)"
   ]
  },
  {
   "cell_type": "markdown",
   "id": "882bf2d5",
   "metadata": {},
   "source": [
    "# Parallel Ada Boost Algorithm-1"
   ]
  },
  {
   "cell_type": "code",
   "execution_count": null,
   "id": "2860e988",
   "metadata": {},
   "outputs": [],
   "source": [
    "def adaboost(data , targets , M,w0,p0,max_pass=300, train_data=True):\n",
    "    w_t = w0\n",
    "    p_t = p0\n",
    "    for i in range(max_pass):\n",
    "        p_t = np.divide(p_t,np.sum(p_t))\n",
    "        epsi_t = #TODO: \n",
    "        gamma_t = 1- epsi_t\n",
    "        beta_t = 0.5*np.log(np.divide(gamma_t,epsi_t))\n",
    "        alpha_t = np.ones((data.shape[1],1)) # Parallel Adaboost\n",
    "        w_t = w_t + np.multiply(alpha_t,beta_t)\n",
    "        p_t = np.multiply(p_t,np.exp(-M@(np.multiply(alpha_t,beta_t))))\n",
    "    return w_t"
   ]
  },
  {
   "cell_type": "code",
   "execution_count": 30,
   "id": "d07a67be",
   "metadata": {},
   "outputs": [
    {
     "data": {
      "text/plain": [
       "array([[0.28057797],\n",
       "       [0.19381623],\n",
       "       [0.51073422],\n",
       "       [0.01487158]])"
      ]
     },
     "execution_count": 30,
     "metadata": {},
     "output_type": "execute_result"
    }
   ],
   "source": [
    "from numpy import random\n",
    "pt = np.random.rand(4,1)\n",
    "tt = np.sum(pt)\n",
    "np.divide(pt,tt)"
   ]
  },
  {
   "cell_type": "code",
   "execution_count": 36,
   "id": "3a9a4e3d",
   "metadata": {},
   "outputs": [
    {
     "data": {
      "text/plain": [
       "array([[1.],\n",
       "       [1.],\n",
       "       [1.],\n",
       "       [1.],\n",
       "       [1.]])"
      ]
     },
     "execution_count": 36,
     "metadata": {},
     "output_type": "execute_result"
    }
   ],
   "source": [
    "np.ones((5,1))"
   ]
  },
  {
   "cell_type": "code",
   "execution_count": null,
   "id": "65e9def8",
   "metadata": {},
   "outputs": [],
   "source": []
  }
 ],
 "metadata": {
  "kernelspec": {
   "display_name": "Python 3.9.6 64-bit",
   "language": "python",
   "name": "python3"
  },
  "language_info": {
   "codemirror_mode": {
    "name": "ipython",
    "version": 3
   },
   "file_extension": ".py",
   "mimetype": "text/x-python",
   "name": "python",
   "nbconvert_exporter": "python",
   "pygments_lexer": "ipython3",
   "version": "3.12.4"
  },
  "vscode": {
   "interpreter": {
    "hash": "31f2aee4e71d21fbe5cf8b01ff0e069b9275f58929596ceb00d14d90e3e16cd6"
   }
  }
 },
 "nbformat": 4,
 "nbformat_minor": 5
}
