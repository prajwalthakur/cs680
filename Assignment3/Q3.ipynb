{
 "cells": [
  {
   "cell_type": "markdown",
   "id": "70060883",
   "metadata": {},
   "source": [
    "## Data loading for default of credit card clients dataset "
   ]
  },
  {
   "cell_type": "markdown",
   "id": "d3284637",
   "metadata": {},
   "source": [
    "To use the data, simply load the pickle file"
   ]
  },
  {
   "cell_type": "code",
   "execution_count": 45,
   "id": "7fec513c",
   "metadata": {},
   "outputs": [],
   "source": [
    "import pickle\n",
    "with open(\"train_test_split.pkl\", \"br\") as fh:\n",
    "    data = pickle.load(fh)\n",
    "train_data = data[0]\n",
    "test_data = data[1]\n",
    "\n",
    "train_x = train_data[:,:23]\n",
    "train_y = train_data[:,23] # labels are either 0 or 1\n",
    "test_x = test_data[:,:23]\n",
    "test_y = test_data[:,23] # labels are either 0 or 1"
   ]
  },
  {
   "cell_type": "markdown",
   "id": "1e0f6213",
   "metadata": {},
   "source": [
    "# converting the labels to +-1 "
   ]
  },
  {
   "cell_type": "code",
   "execution_count": 46,
   "id": "ce6161c7",
   "metadata": {},
   "outputs": [],
   "source": [
    "train_y = 2*train_y - 1\n",
    "test_y = 2*test_y -1"
   ]
  },
  {
   "cell_type": "code",
   "execution_count": 56,
   "id": "fbd0773d",
   "metadata": {},
   "outputs": [],
   "source": [
    "import numpy as np\n",
    "import pdb"
   ]
  },
  {
   "cell_type": "markdown",
   "id": "9eb8bcff",
   "metadata": {},
   "source": [
    "# weak classifier"
   ]
  },
  {
   "cell_type": "code",
   "execution_count": 77,
   "id": "c96b7f8d",
   "metadata": {},
   "outputs": [],
   "source": [
    "# h_j = sign(x_j-m_j)\n",
    "def naive_weak_classifier(X,j=None):\n",
    "    #X : nxd \n",
    "    #j : jth feature <=d if none then comute H_j = n*d matrix\n",
    "    # return \n",
    "    # h_j = nx1 classifier or H_j  = n*d matrix  \n",
    "    if j != None:\n",
    "        X_j = X[:,j]\n",
    "        M_j = np.median(X_j) \n",
    "        h_j_temp  = X_j - M_j\n",
    "        h_j  = np.where(h_j_temp >= 0, 1, -1)[...,np.newaxis]\n",
    "        return h_j\n",
    "    else :\n",
    "        #print(X.shape)\n",
    "        M = np.median(X,axis=0)[np.newaxis,...]\n",
    "        #print(M.shape) \n",
    "        H_j_temp  = X - M\n",
    "        H  = np.where(H_j_temp >= 0, 1, -1)\n",
    "        return H\n",
    "    "
   ]
  },
  {
   "cell_type": "code",
   "execution_count": 78,
   "id": "7f58af13",
   "metadata": {},
   "outputs": [
    {
     "name": "stdout",
     "output_type": "stream",
     "text": [
      "(20000, 23)\n"
     ]
    }
   ],
   "source": [
    "h_j_1 = naive_weak_classifier(X=train_x,j=None)\n",
    "print(h_j_1.shape)"
   ]
  },
  {
   "cell_type": "markdown",
   "id": "882bf2d5",
   "metadata": {},
   "source": [
    "# Parallel Ada Boost Algorithm-1"
   ]
  },
  {
   "cell_type": "code",
   "execution_count": 97,
   "id": "2860e988",
   "metadata": {},
   "outputs": [],
   "source": [
    "def adaboost(data , targets , M,w0 ,p0,max_pass=300, train_data=True):\n",
    "    w_t = w0\n",
    "    p_t = p0\n",
    "    M_positive = np.maximum(M,0)\n",
    "    M_negative = np.abs(M) - M_positive\n",
    "    for i in range(max_pass):\n",
    "        p_t = np.divide(p_t,np.sum(p_t))\n",
    "        epsi_t = np.transpose(M_negative)@p_t \n",
    "        gamma_t = 1- epsi_t\n",
    "        beta_t_temp = np.divide(gamma_t,epsi_t)\n",
    "        beta_t_temp\n",
    "        print(\"itr\",i, beta_t_temp.shape)\n",
    "        beta_t = 0.5*np.log(beta_t_temp)\n",
    "        alpha_t = np.ones((data.shape[1],1)) # Parallel Adaboost\n",
    "        w_t = w_t + np.multiply(alpha_t,beta_t)\n",
    "        p_t = np.multiply(p_t,np.exp(-M@(np.multiply(alpha_t,beta_t))))\n",
    "    return w_t"
   ]
  },
  {
   "cell_type": "markdown",
   "id": "5daf81a8",
   "metadata": {},
   "source": [
    "# calling Ada BOOST"
   ]
  },
  {
   "cell_type": "code",
   "execution_count": 98,
   "id": "2283bb8a",
   "metadata": {},
   "outputs": [
    {
     "name": "stdout",
     "output_type": "stream",
     "text": [
      "itr 0 (23, 1)\n"
     ]
    },
    {
     "ename": "TypeError",
     "evalue": "loop of ufunc does not support argument 0 of type float which has no callable log method",
     "output_type": "error",
     "traceback": [
      "\u001b[0;31m---------------------------------------------------------------------------\u001b[0m",
      "\u001b[0;31mAttributeError\u001b[0m                            Traceback (most recent call last)",
      "\u001b[0;31mAttributeError\u001b[0m: 'float' object has no attribute 'log'",
      "\nThe above exception was the direct cause of the following exception:\n",
      "\u001b[0;31mTypeError\u001b[0m                                 Traceback (most recent call last)",
      "Cell \u001b[0;32mIn[98], line 3\u001b[0m\n\u001b[1;32m      1\u001b[0m H \u001b[38;5;241m=\u001b[39m naive_weak_classifier(X\u001b[38;5;241m=\u001b[39mtrain_x,j\u001b[38;5;241m=\u001b[39m\u001b[38;5;28;01mNone\u001b[39;00m)\n\u001b[1;32m      2\u001b[0m M \u001b[38;5;241m=\u001b[39m np\u001b[38;5;241m.\u001b[39mmultiply(train_y[\u001b[38;5;241m.\u001b[39m\u001b[38;5;241m.\u001b[39m\u001b[38;5;241m.\u001b[39m,np\u001b[38;5;241m.\u001b[39mnewaxis],H)\n\u001b[0;32m----> 3\u001b[0m w_final \u001b[38;5;241m=\u001b[39m \u001b[43madaboost\u001b[49m\u001b[43m(\u001b[49m\u001b[43mtrain_x\u001b[49m\u001b[43m \u001b[49m\u001b[43m,\u001b[49m\u001b[43m \u001b[49m\u001b[43mtrain_y\u001b[49m\u001b[43m \u001b[49m\u001b[43m,\u001b[49m\u001b[43m \u001b[49m\u001b[43mM\u001b[49m\u001b[43m,\u001b[49m\u001b[43mw0\u001b[49m\u001b[43m \u001b[49m\u001b[38;5;241;43m=\u001b[39;49m\u001b[43m \u001b[49m\u001b[43mnp\u001b[49m\u001b[38;5;241;43m.\u001b[39;49m\u001b[43mzeros\u001b[49m\u001b[43m(\u001b[49m\u001b[43m(\u001b[49m\u001b[43mtrain_x\u001b[49m\u001b[38;5;241;43m.\u001b[39;49m\u001b[43mshape\u001b[49m\u001b[43m[\u001b[49m\u001b[38;5;241;43m1\u001b[39;49m\u001b[43m]\u001b[49m\u001b[43m,\u001b[49m\u001b[38;5;241;43m1\u001b[39;49m\u001b[43m)\u001b[49m\u001b[43m)\u001b[49m\u001b[43m,\u001b[49m\u001b[43mp0\u001b[49m\u001b[43m \u001b[49m\u001b[38;5;241;43m=\u001b[39;49m\u001b[43m \u001b[49m\u001b[43mnp\u001b[49m\u001b[38;5;241;43m.\u001b[39;49m\u001b[43mones\u001b[49m\u001b[43m(\u001b[49m\u001b[43m(\u001b[49m\u001b[43mtrain_x\u001b[49m\u001b[38;5;241;43m.\u001b[39;49m\u001b[43mshape\u001b[49m\u001b[43m[\u001b[49m\u001b[38;5;241;43m0\u001b[39;49m\u001b[43m]\u001b[49m\u001b[43m,\u001b[49m\u001b[38;5;241;43m1\u001b[39;49m\u001b[43m)\u001b[49m\u001b[43m)\u001b[49m\u001b[43m,\u001b[49m\u001b[43mmax_pass\u001b[49m\u001b[38;5;241;43m=\u001b[39;49m\u001b[38;5;241;43m10\u001b[39;49m\u001b[43m,\u001b[49m\u001b[43m \u001b[49m\u001b[43mtrain_data\u001b[49m\u001b[38;5;241;43m=\u001b[39;49m\u001b[38;5;28;43;01mTrue\u001b[39;49;00m\u001b[43m)\u001b[49m\n\u001b[1;32m      4\u001b[0m \u001b[38;5;28mprint\u001b[39m(M\u001b[38;5;241m.\u001b[39mshape)\n",
      "Cell \u001b[0;32mIn[97], line 13\u001b[0m, in \u001b[0;36madaboost\u001b[0;34m(data, targets, M, w0, p0, max_pass, train_data)\u001b[0m\n\u001b[1;32m     11\u001b[0m beta_t_temp\n\u001b[1;32m     12\u001b[0m \u001b[38;5;28mprint\u001b[39m(\u001b[38;5;124m\"\u001b[39m\u001b[38;5;124mitr\u001b[39m\u001b[38;5;124m\"\u001b[39m,i, beta_t_temp\u001b[38;5;241m.\u001b[39mshape)\n\u001b[0;32m---> 13\u001b[0m beta_t \u001b[38;5;241m=\u001b[39m \u001b[38;5;241m0.5\u001b[39m\u001b[38;5;241m*\u001b[39m\u001b[43mnp\u001b[49m\u001b[38;5;241;43m.\u001b[39;49m\u001b[43mlog\u001b[49m\u001b[43m(\u001b[49m\u001b[43mbeta_t_temp\u001b[49m\u001b[43m)\u001b[49m\n\u001b[1;32m     14\u001b[0m alpha_t \u001b[38;5;241m=\u001b[39m np\u001b[38;5;241m.\u001b[39mones((data\u001b[38;5;241m.\u001b[39mshape[\u001b[38;5;241m1\u001b[39m],\u001b[38;5;241m1\u001b[39m)) \u001b[38;5;66;03m# Parallel Adaboost\u001b[39;00m\n\u001b[1;32m     15\u001b[0m w_t \u001b[38;5;241m=\u001b[39m w_t \u001b[38;5;241m+\u001b[39m np\u001b[38;5;241m.\u001b[39mmultiply(alpha_t,beta_t)\n",
      "\u001b[0;31mTypeError\u001b[0m: loop of ufunc does not support argument 0 of type float which has no callable log method"
     ]
    }
   ],
   "source": [
    "\n",
    "H = naive_weak_classifier(X=train_x,j=None)\n",
    "M = np.multiply(train_y[...,np.newaxis],H)\n",
    "w_final = adaboost(train_x , train_y , M,w0 = np.zeros((train_x.shape[1],1)),p0 = np.ones((train_x.shape[0],1)),max_pass=10, train_data=True)\n",
    "print(M.shape)"
   ]
  },
  {
   "cell_type": "code",
   "execution_count": 90,
   "id": "78bcc3d2",
   "metadata": {},
   "outputs": [
    {
     "data": {
      "text/plain": [
       "array([[-0.59468616],\n",
       "       [-0.0970176 ],\n",
       "       [-0.1869833 ],\n",
       "       [-0.07071535],\n",
       "       [-0.86439865],\n",
       "       [-0.39109914],\n",
       "       [-0.19375431],\n",
       "       [-0.24069082],\n",
       "       [-6.79121427],\n",
       "       [-4.24468554]])"
      ]
     },
     "execution_count": 90,
     "metadata": {},
     "output_type": "execute_result"
    }
   ],
   "source": [
    "tt = np.random.rand(10,1)\n",
    "np.log(tt)"
   ]
  },
  {
   "cell_type": "code",
   "execution_count": 30,
   "id": "d07a67be",
   "metadata": {},
   "outputs": [
    {
     "data": {
      "text/plain": [
       "array([[0.28057797],\n",
       "       [0.19381623],\n",
       "       [0.51073422],\n",
       "       [0.01487158]])"
      ]
     },
     "execution_count": 30,
     "metadata": {},
     "output_type": "execute_result"
    }
   ],
   "source": [
    "from numpy import random\n",
    "pt = np.random.rand(4,1)\n",
    "tt = np.sum(pt)\n",
    "np.divide(pt,tt)"
   ]
  },
  {
   "cell_type": "code",
   "execution_count": 38,
   "id": "3a9a4e3d",
   "metadata": {},
   "outputs": [
    {
     "data": {
      "text/plain": [
       "array([1, 2, 2, ..., 1, 2, 2], dtype=object)"
      ]
     },
     "execution_count": 38,
     "metadata": {},
     "output_type": "execute_result"
    }
   ],
   "source": [
    "train_x[:,1]"
   ]
  },
  {
   "cell_type": "code",
   "execution_count": null,
   "id": "65e9def8",
   "metadata": {},
   "outputs": [],
   "source": []
  }
 ],
 "metadata": {
  "kernelspec": {
   "display_name": "Python 3.9.6 64-bit",
   "language": "python",
   "name": "python3"
  },
  "language_info": {
   "codemirror_mode": {
    "name": "ipython",
    "version": 3
   },
   "file_extension": ".py",
   "mimetype": "text/x-python",
   "name": "python",
   "nbconvert_exporter": "python",
   "pygments_lexer": "ipython3",
   "version": "3.12.4"
  },
  "vscode": {
   "interpreter": {
    "hash": "31f2aee4e71d21fbe5cf8b01ff0e069b9275f58929596ceb00d14d90e3e16cd6"
   }
  }
 },
 "nbformat": 4,
 "nbformat_minor": 5
}
