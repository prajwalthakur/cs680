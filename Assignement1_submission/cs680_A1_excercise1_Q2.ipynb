{
  "cells": [
    {
      "cell_type": "markdown",
      "metadata": {
        "id": "BDzCk5bz1b_G"
      },
      "source": [
        "## Question-2"
      ]
    },
    {
      "cell_type": "code",
      "execution_count": null,
      "metadata": {
        "collapsed": true,
        "id": "6xTklOd0koxk"
      },
      "outputs": [],
      "source": [
        "# @title include the libraries\n",
        "import pandas as pd\n",
        "import numpy as np\n",
        "from numpy import genfromtxt\n",
        "import pdb\n",
        "from matplotlib import pyplot as plt"
      ]
    },
    {
      "cell_type": "code",
      "execution_count": null,
      "metadata": {
        "collapsed": true,
        "id": "skD5zeppoU4N"
      },
      "outputs": [],
      "source": [
        "# @title Load the training Data\n",
        "import numpy as np\n",
        "\n",
        "def ReadX(path):\n",
        "    print(f'>>> Reading data from: {path} ...')\n",
        "    with open(path) as f:\n",
        "        # only one line that includes everything\n",
        "        file = f.readlines()\n",
        "\n",
        "    print(f'#instances: {len(file)}') # 7352 for training set, 2947 for test set\n",
        "\n",
        "    X_all = []\n",
        "    for instance in file:\n",
        "        f = filter(None, instance.split(' '))\n",
        "        instance_filterd = list(f)\n",
        "        instance_cleaned = [float(attr.strip()) for attr in instance_filterd]\n",
        "        X_all.append(instance_cleaned)\n",
        "    X_all = np.array(X_all)\n",
        "    print('>>> Reading finished! Data are converted to numpy array.')\n",
        "    print(f'shape of X: {X_all.shape} ==> each instance has {X_all.shape[1]} attributes.')\n",
        "\n",
        "    return X_all\n",
        "\n",
        "def ReadY(path):\n",
        "    print(f'>>> Reading data from: {path} ...')\n",
        "    with open(path) as f:\n",
        "        # only one line that includes everything\n",
        "        file = f.readlines()\n",
        "\n",
        "        print(f'#instances: {len(file)}')  # 7352 for training set, 2947 for test set\n",
        "\n",
        "    y_all = [float(label.strip()) for label in file]\n",
        "    y_all = np.array(y_all)\n",
        "    print('>>> Reading finished! Data are converted to numpy array.')\n",
        "    print(f'shape of y: {y_all.shape}')\n",
        "    return y_all\n",
        "\n",
        "\n",
        "\n",
        "# You can change the path of the files\n",
        "X_train = ReadX('/content/activity_X_train.txt')\n",
        "y_train = ReadY('/content/activity_y_train.txt')\n",
        "\n",
        "X_test = ReadX('/content/activity_X_test.txt')\n",
        "y_test = ReadY('/content/activity_y_test.txt')\n",
        "\n",
        "\n",
        "# num_features = X_train.shape[0]\n",
        "# num_training_example = training_data.shape[1]\n",
        "# num_training_labels = training_labels.shape[0]\n",
        "# print(\"num of features =\",num_features,\"num_training_example=\",num_training_example)\n",
        "# print(\"num_labels=\",num_training_labels)"
      ]
    },
    {
      "cell_type": "code",
      "execution_count": null,
      "metadata": {
        "id": "Dh0ZjkNrmx_n"
      },
      "outputs": [],
      "source": [
        "# @title  Implementation of perceptron Algorithm (Binary Classification)\n",
        "def perceptron_algo(X:np.asarray,y:np.asarray,max_pass:int=500, w:np.asarray=np.zeros((57,1)),b:np.float32=0):\n",
        "  mistakes = np.zeros((0)) # to record the mistakes in each iteration\n",
        "  num_features = X.shape[0]\n",
        "  num_training_example = X.shape[1]\n",
        "  for j in range(max_pass):\n",
        "    mistake_t = 0\n",
        "    for i in range(num_training_example):\n",
        "      if(y[i]*(X[:,i][...,np.newaxis].T@w+b).squeeze() <= 0) :\n",
        "        w = w + y[i]*X[:,i][...,np.newaxis]\n",
        "        b = b + y[i]\n",
        "        mistake_t+=1\n",
        "    mistakes = np.hstack((mistakes,np.asarray([mistake_t])))\n",
        "    #print(f\"mistake-at-{j}\",mistake_t)\n",
        "  return w,b,mistakes\n",
        "\n"
      ]
    },
    {
      "cell_type": "code",
      "execution_count": null,
      "metadata": {
        "id": "Ss7ybpIJ8-J3"
      },
      "outputs": [],
      "source": [
        "# @title Multiclass-Perceptron (One Vs All), This calls the perceptron_algo for each label\n",
        "def perceptron_algo_multiclass(X:np.asarray,y:np.asarray,w,b,max_pass:int=500,num_classes:int=1):\n",
        "  mistakes = np.zeros((num_classes,max_pass))\n",
        "  w_final = np.zeros((num_classes,X.shape[0],1))\n",
        "  b_final = np.zeros((num_classes,))\n",
        "  for i in range(num_classes):\n",
        "    print(\"Training the CLASS:\",i+1)\n",
        "    y_i = np.ones([X.shape[1],])\n",
        "    idx = np.argwhere(y != i+1)\n",
        "    y_i[idx] = -1\n",
        "    w_i,b_i,mistake_i = perceptron_algo(X,y_i,max_pass=500, w=w[i,:,:],b=b[i])\n",
        "    w_final[i,:,:] = w_i\n",
        "    b_final[i] = b_i\n",
        "    mistakes[i] = mistake_i\n",
        "    print(f\"final-mistake for class-{i+1}:=\",mistake_i[-1])\n",
        "  return w_final,b_final,mistakes"
      ]
    },
    {
      "cell_type": "code",
      "execution_count": null,
      "metadata": {
        "colab": {
          "background_save": true,
          "base_uri": "https://localhost:8080/"
        },
        "collapsed": true,
        "id": "gDyeGZF8u_A1",
        "outputId": "fcbe78a7-1062-4493-ad5f-f6795471349f"
      },
      "outputs": [
        {
          "name": "stdout",
          "output_type": "stream",
          "text": [
            "Training the CLASS: 1\n",
            "final-mistake for class-1:= 0.0\n",
            "Training the CLASS: 2\n",
            "final-mistake for class-2:= 0.0\n",
            "Training the CLASS: 3\n",
            "final-mistake for class-3:= 0.0\n",
            "Training the CLASS: 4\n",
            "final-mistake for class-4:= 40.0\n",
            "Training the CLASS: 5\n",
            "final-mistake for class-5:= 38.0\n",
            "Training the CLASS: 6\n",
            "final-mistake for class-6:= 0.0\n"
          ]
        }
      ],
      "source": [
        "# @title Calling Perceptron Algorithm\n",
        "X = X_train.T\n",
        "y = y_train\n",
        "max_pass_itr = 500\n",
        "num_classes = 6\n",
        "num_features = X.shape[0]\n",
        "w,b,mistakes = perceptron_algo_multiclass(X,y,w=np.zeros((num_classes,num_features,1)),b=np.zeros((num_classes,)) , max_pass=max_pass_itr,num_classes=6)"
      ]
    },
    {
      "cell_type": "code",
      "execution_count": null,
      "metadata": {
        "colab": {
          "background_save": true
        },
        "id": "7ssYV5ljYvWl",
        "outputId": "2d4a08b1-c91d-4ebb-8b06-f968bf4bf2bf"
      },
      "outputs": [
        {
          "name": "stdout",
          "output_type": "stream",
          "text": [
            "total-training-error= 78.0\n"
          ]
        }
      ],
      "source": [
        "# @title Calculating Metrices\n",
        "total_training_error = np.sum(mistakes[:,-1])\n",
        "print(f\"total-training-error=\",total_training_error)"
      ]
    },
    {
      "cell_type": "code",
      "execution_count": null,
      "metadata": {
        "colab": {
          "background_save": true
        },
        "id": "2Zi_c76_I7Pg",
        "outputId": "e30970fe-fa90-48ae-f024-721de068e028"
      },
      "outputs": [
        {
          "name": "stdout",
          "output_type": "stream",
          "text": [
            "Total mistakes-in-test-data 145\n"
          ]
        }
      ],
      "source": [
        "# @title Evaluation on Testing Dataset\n",
        "test_data = X_test.T\n",
        "test_true_label = y_test\n",
        "mistakes_test = 0\n",
        "w = w.squeeze()\n",
        "for i in range(test_data.shape[1]):\n",
        "  predicted_test_label = np.argmax(w@test_data[:,i]+ b)\n",
        "  if test_true_label[i] != predicted_test_label+1:\n",
        "    mistakes_test+=1\n",
        "print(\"Total mistakes-in-test-data\",mistakes_test)"
      ]
    },
    {
      "cell_type": "code",
      "execution_count": null,
      "metadata": {
        "colab": {
          "background_save": true
        },
        "id": "2E1YUFe8dLJt"
      },
      "outputs": [],
      "source": []
    }
  ],
  "metadata": {
    "colab": {
      "provenance": []
    },
    "kernelspec": {
      "display_name": "Python 3",
      "name": "python3"
    },
    "language_info": {
      "name": "python"
    }
  },
  "nbformat": 4,
  "nbformat_minor": 0
}