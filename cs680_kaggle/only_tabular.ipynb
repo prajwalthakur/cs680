{
 "cells": [
  {
   "cell_type": "code",
   "execution_count": 5,
   "metadata": {},
   "outputs": [],
   "source": [
    "import os\n",
    "import numpy as np # linear algebra\n",
    "import pandas as pd # data processing, CSV file I/O (e.g. pd.read_csv)\n",
    "import matplotlib.pyplot as plt\n",
    "\n",
    "from sklearn.model_selection import train_test_split\n",
    "from sklearn.metrics import r2_score\n",
    "import lightgbm as lgb\n",
    "\n",
    "from sklearn.model_selection import KFold, cross_val_score\n",
    "from sklearn.multioutput import MultiOutputRegressor\n",
    "\n",
    "import warnings\n",
    "warnings.simplefilter(action='ignore', category=FutureWarning)"
   ]
  },
  {
   "cell_type": "code",
   "execution_count": 6,
   "metadata": {},
   "outputs": [],
   "source": [
    "BASE_DIR = os.path.join(os.getcwd() , 'data')\n"
   ]
  },
  {
   "cell_type": "code",
   "execution_count": 7,
   "metadata": {},
   "outputs": [],
   "source": [
    "df = pd.read_csv(BASE_DIR  +  '/train.csv')"
   ]
  },
  {
   "cell_type": "code",
   "execution_count": 10,
   "metadata": {},
   "outputs": [],
   "source": [
    "mean_columns = ['X4_mean', 'X11_mean', 'X18_mean', 'X50_mean', 'X26_mean', 'X3112_mean']\n",
    "sd_columns = [col for col in df.columns if col.endswith('_mean')]\n",
    "train = df.drop(columns=sd_columns)"
   ]
  },
  {
   "cell_type": "code",
   "execution_count": 12,
   "metadata": {},
   "outputs": [],
   "source": [
    "X_full = df.drop(columns=mean_columns + ['id'])\n",
    "Y_full = df[mean_columns]"
   ]
  },
  {
   "cell_type": "code",
   "execution_count": 13,
   "metadata": {},
   "outputs": [
    {
     "name": "stdout",
     "output_type": "stream",
     "text": [
      "\n",
      "Doing cross-validation scoring...\n",
      "Average R^2 score across all targets: 0.1988760388099238\n",
      "Training final model...\n"
     ]
    },
    {
     "data": {
      "text/html": [
       "<style>#sk-container-id-1 {color: black;}#sk-container-id-1 pre{padding: 0;}#sk-container-id-1 div.sk-toggleable {background-color: white;}#sk-container-id-1 label.sk-toggleable__label {cursor: pointer;display: block;width: 100%;margin-bottom: 0;padding: 0.3em;box-sizing: border-box;text-align: center;}#sk-container-id-1 label.sk-toggleable__label-arrow:before {content: \"▸\";float: left;margin-right: 0.25em;color: #696969;}#sk-container-id-1 label.sk-toggleable__label-arrow:hover:before {color: black;}#sk-container-id-1 div.sk-estimator:hover label.sk-toggleable__label-arrow:before {color: black;}#sk-container-id-1 div.sk-toggleable__content {max-height: 0;max-width: 0;overflow: hidden;text-align: left;background-color: #f0f8ff;}#sk-container-id-1 div.sk-toggleable__content pre {margin: 0.2em;color: black;border-radius: 0.25em;background-color: #f0f8ff;}#sk-container-id-1 input.sk-toggleable__control:checked~div.sk-toggleable__content {max-height: 200px;max-width: 100%;overflow: auto;}#sk-container-id-1 input.sk-toggleable__control:checked~label.sk-toggleable__label-arrow:before {content: \"▾\";}#sk-container-id-1 div.sk-estimator input.sk-toggleable__control:checked~label.sk-toggleable__label {background-color: #d4ebff;}#sk-container-id-1 div.sk-label input.sk-toggleable__control:checked~label.sk-toggleable__label {background-color: #d4ebff;}#sk-container-id-1 input.sk-hidden--visually {border: 0;clip: rect(1px 1px 1px 1px);clip: rect(1px, 1px, 1px, 1px);height: 1px;margin: -1px;overflow: hidden;padding: 0;position: absolute;width: 1px;}#sk-container-id-1 div.sk-estimator {font-family: monospace;background-color: #f0f8ff;border: 1px dotted black;border-radius: 0.25em;box-sizing: border-box;margin-bottom: 0.5em;}#sk-container-id-1 div.sk-estimator:hover {background-color: #d4ebff;}#sk-container-id-1 div.sk-parallel-item::after {content: \"\";width: 100%;border-bottom: 1px solid gray;flex-grow: 1;}#sk-container-id-1 div.sk-label:hover label.sk-toggleable__label {background-color: #d4ebff;}#sk-container-id-1 div.sk-serial::before {content: \"\";position: absolute;border-left: 1px solid gray;box-sizing: border-box;top: 0;bottom: 0;left: 50%;z-index: 0;}#sk-container-id-1 div.sk-serial {display: flex;flex-direction: column;align-items: center;background-color: white;padding-right: 0.2em;padding-left: 0.2em;position: relative;}#sk-container-id-1 div.sk-item {position: relative;z-index: 1;}#sk-container-id-1 div.sk-parallel {display: flex;align-items: stretch;justify-content: center;background-color: white;position: relative;}#sk-container-id-1 div.sk-item::before, #sk-container-id-1 div.sk-parallel-item::before {content: \"\";position: absolute;border-left: 1px solid gray;box-sizing: border-box;top: 0;bottom: 0;left: 50%;z-index: -1;}#sk-container-id-1 div.sk-parallel-item {display: flex;flex-direction: column;z-index: 1;position: relative;background-color: white;}#sk-container-id-1 div.sk-parallel-item:first-child::after {align-self: flex-end;width: 50%;}#sk-container-id-1 div.sk-parallel-item:last-child::after {align-self: flex-start;width: 50%;}#sk-container-id-1 div.sk-parallel-item:only-child::after {width: 0;}#sk-container-id-1 div.sk-dashed-wrapped {border: 1px dashed gray;margin: 0 0.4em 0.5em 0.4em;box-sizing: border-box;padding-bottom: 0.4em;background-color: white;}#sk-container-id-1 div.sk-label label {font-family: monospace;font-weight: bold;display: inline-block;line-height: 1.2em;}#sk-container-id-1 div.sk-label-container {text-align: center;}#sk-container-id-1 div.sk-container {/* jupyter's `normalize.less` sets `[hidden] { display: none; }` but bootstrap.min.css set `[hidden] { display: none !important; }` so we also need the `!important` here to be able to override the default hidden behavior on the sphinx rendered scikit-learn.org. See: https://github.com/scikit-learn/scikit-learn/issues/21755 */display: inline-block !important;position: relative;}#sk-container-id-1 div.sk-text-repr-fallback {display: none;}</style><div id=\"sk-container-id-1\" class=\"sk-top-container\"><div class=\"sk-text-repr-fallback\"><pre>MultiOutputRegressor(estimator=LGBMRegressor(colsample_bytree=0.8,\n",
       "                                             learning_rate=0.05, max_depth=10,\n",
       "                                             n_estimators=150, n_jobs=-1,\n",
       "                                             num_leaves=512,\n",
       "                                             objective=&#x27;regression&#x27;,\n",
       "                                             subsample=0.8, verbose=-1))</pre><b>In a Jupyter environment, please rerun this cell to show the HTML representation or trust the notebook. <br />On GitHub, the HTML representation is unable to render, please try loading this page with nbviewer.org.</b></div><div class=\"sk-container\" hidden><div class=\"sk-item sk-dashed-wrapped\"><div class=\"sk-label-container\"><div class=\"sk-label sk-toggleable\"><input class=\"sk-toggleable__control sk-hidden--visually\" id=\"sk-estimator-id-1\" type=\"checkbox\" ><label for=\"sk-estimator-id-1\" class=\"sk-toggleable__label sk-toggleable__label-arrow\">MultiOutputRegressor</label><div class=\"sk-toggleable__content\"><pre>MultiOutputRegressor(estimator=LGBMRegressor(colsample_bytree=0.8,\n",
       "                                             learning_rate=0.05, max_depth=10,\n",
       "                                             n_estimators=150, n_jobs=-1,\n",
       "                                             num_leaves=512,\n",
       "                                             objective=&#x27;regression&#x27;,\n",
       "                                             subsample=0.8, verbose=-1))</pre></div></div></div><div class=\"sk-parallel\"><div class=\"sk-parallel-item\"><div class=\"sk-item\"><div class=\"sk-label-container\"><div class=\"sk-label sk-toggleable\"><input class=\"sk-toggleable__control sk-hidden--visually\" id=\"sk-estimator-id-2\" type=\"checkbox\" ><label for=\"sk-estimator-id-2\" class=\"sk-toggleable__label sk-toggleable__label-arrow\">estimator: LGBMRegressor</label><div class=\"sk-toggleable__content\"><pre>LGBMRegressor(colsample_bytree=0.8, learning_rate=0.05, max_depth=10,\n",
       "              n_estimators=150, n_jobs=-1, num_leaves=512,\n",
       "              objective=&#x27;regression&#x27;, subsample=0.8, verbose=-1)</pre></div></div></div><div class=\"sk-serial\"><div class=\"sk-item\"><div class=\"sk-estimator sk-toggleable\"><input class=\"sk-toggleable__control sk-hidden--visually\" id=\"sk-estimator-id-3\" type=\"checkbox\" ><label for=\"sk-estimator-id-3\" class=\"sk-toggleable__label sk-toggleable__label-arrow\">LGBMRegressor</label><div class=\"sk-toggleable__content\"><pre>LGBMRegressor(colsample_bytree=0.8, learning_rate=0.05, max_depth=10,\n",
       "              n_estimators=150, n_jobs=-1, num_leaves=512,\n",
       "              objective=&#x27;regression&#x27;, subsample=0.8, verbose=-1)</pre></div></div></div></div></div></div></div></div></div></div>"
      ],
      "text/plain": [
       "MultiOutputRegressor(estimator=LGBMRegressor(colsample_bytree=0.8,\n",
       "                                             learning_rate=0.05, max_depth=10,\n",
       "                                             n_estimators=150, n_jobs=-1,\n",
       "                                             num_leaves=512,\n",
       "                                             objective='regression',\n",
       "                                             subsample=0.8, verbose=-1))"
      ]
     },
     "execution_count": 13,
     "metadata": {},
     "output_type": "execute_result"
    }
   ],
   "source": [
    "do_cv = True\n",
    "\n",
    "# Initialize the LightGBM Regressor\n",
    "lgb_regressor = lgb.LGBMRegressor(objective='regression', n_estimators=150, learning_rate=0.05, max_depth=10, num_leaves=512,\n",
    "                                  subsample = 0.8, colsample_bytree = 0.8, n_jobs=-1, verbose=-1)\n",
    "\n",
    "# Wrap LightGBM with MultiOutputRegressor to handle multi-output regression\n",
    "multi_output_model = MultiOutputRegressor(lgb_regressor)\n",
    "\n",
    "if do_cv:\n",
    "    print(\"\\nDoing cross-validation scoring...\")\n",
    "    scores = cross_val_score(multi_output_model, X_full, Y_full,\n",
    "                             cv=KFold(n_splits=3, shuffle=True, random_state=42),\n",
    "                             scoring='r2')  \n",
    "    print(f\"Average R^2 score across all targets: {np.mean(scores)}\")\n",
    "\n",
    "# Train model with all data\n",
    "print(\"Training final model...\")\n",
    "multi_output_model.fit(X_full, Y_full)"
   ]
  },
  {
   "cell_type": "code",
   "execution_count": 17,
   "metadata": {},
   "outputs": [
    {
     "data": {
      "text/plain": [
       "array(['WORLDCLIM_BIO1_annual_mean_temperature',\n",
       "       'WORLDCLIM_BIO12_annual_precipitation',\n",
       "       'WORLDCLIM_BIO13.BIO14_delta_precipitation_of_wettest_and_dryest_month',\n",
       "       'WORLDCLIM_BIO15_precipitation_seasonality',\n",
       "       'WORLDCLIM_BIO4_temperature_seasonality',\n",
       "       'WORLDCLIM_BIO7_temperature_annual_range',\n",
       "       'SOIL_bdod_0.5cm_mean_0.01_deg',\n",
       "       'SOIL_bdod_100.200cm_mean_0.01_deg',\n",
       "       'SOIL_bdod_15.30cm_mean_0.01_deg',\n",
       "       'SOIL_bdod_30.60cm_mean_0.01_deg',\n",
       "       'SOIL_bdod_5.15cm_mean_0.01_deg',\n",
       "       'SOIL_bdod_60.100cm_mean_0.01_deg', 'SOIL_cec_0.5cm_mean_0.01_deg',\n",
       "       'SOIL_cec_100.200cm_mean_0.01_deg',\n",
       "       'SOIL_cec_15.30cm_mean_0.01_deg', 'SOIL_cec_30.60cm_mean_0.01_deg',\n",
       "       'SOIL_cec_5.15cm_mean_0.01_deg', 'SOIL_cec_60.100cm_mean_0.01_deg',\n",
       "       'SOIL_cfvo_0.5cm_mean_0.01_deg',\n",
       "       'SOIL_cfvo_100.200cm_mean_0.01_deg',\n",
       "       'SOIL_cfvo_15.30cm_mean_0.01_deg',\n",
       "       'SOIL_cfvo_30.60cm_mean_0.01_deg',\n",
       "       'SOIL_cfvo_5.15cm_mean_0.01_deg',\n",
       "       'SOIL_cfvo_60.100cm_mean_0.01_deg',\n",
       "       'SOIL_clay_0.5cm_mean_0.01_deg',\n",
       "       'SOIL_clay_100.200cm_mean_0.01_deg',\n",
       "       'SOIL_clay_15.30cm_mean_0.01_deg',\n",
       "       'SOIL_clay_30.60cm_mean_0.01_deg',\n",
       "       'SOIL_clay_5.15cm_mean_0.01_deg',\n",
       "       'SOIL_clay_60.100cm_mean_0.01_deg',\n",
       "       'SOIL_nitrogen_0.5cm_mean_0.01_deg',\n",
       "       'SOIL_nitrogen_100.200cm_mean_0.01_deg',\n",
       "       'SOIL_nitrogen_15.30cm_mean_0.01_deg',\n",
       "       'SOIL_nitrogen_30.60cm_mean_0.01_deg',\n",
       "       'SOIL_nitrogen_5.15cm_mean_0.01_deg',\n",
       "       'SOIL_nitrogen_60.100cm_mean_0.01_deg',\n",
       "       'SOIL_ocd_0.5cm_mean_0.01_deg', 'SOIL_ocd_100.200cm_mean_0.01_deg',\n",
       "       'SOIL_ocd_15.30cm_mean_0.01_deg', 'SOIL_ocd_30.60cm_mean_0.01_deg',\n",
       "       'SOIL_ocd_5.15cm_mean_0.01_deg', 'SOIL_ocd_60.100cm_mean_0.01_deg',\n",
       "       'SOIL_ocs_0.30cm_mean_0.01_deg', 'SOIL_phh2o_0.5cm_mean_0.01_deg',\n",
       "       'SOIL_phh2o_100.200cm_mean_0.01_deg',\n",
       "       'SOIL_phh2o_15.30cm_mean_0.01_deg',\n",
       "       'SOIL_phh2o_30.60cm_mean_0.01_deg',\n",
       "       'SOIL_phh2o_5.15cm_mean_0.01_deg',\n",
       "       'SOIL_phh2o_60.100cm_mean_0.01_deg',\n",
       "       'SOIL_sand_0.5cm_mean_0.01_deg',\n",
       "       'SOIL_sand_100.200cm_mean_0.01_deg',\n",
       "       'SOIL_sand_15.30cm_mean_0.01_deg',\n",
       "       'SOIL_sand_30.60cm_mean_0.01_deg',\n",
       "       'SOIL_sand_5.15cm_mean_0.01_deg',\n",
       "       'SOIL_sand_60.100cm_mean_0.01_deg',\n",
       "       'SOIL_silt_0.5cm_mean_0.01_deg',\n",
       "       'SOIL_silt_100.200cm_mean_0.01_deg',\n",
       "       'SOIL_silt_15.30cm_mean_0.01_deg',\n",
       "       'SOIL_silt_30.60cm_mean_0.01_deg',\n",
       "       'SOIL_silt_5.15cm_mean_0.01_deg',\n",
       "       'SOIL_silt_60.100cm_mean_0.01_deg', 'SOIL_soc_0.5cm_mean_0.01_deg',\n",
       "       'SOIL_soc_100.200cm_mean_0.01_deg',\n",
       "       'SOIL_soc_15.30cm_mean_0.01_deg', 'SOIL_soc_30.60cm_mean_0.01_deg',\n",
       "       'SOIL_soc_5.15cm_mean_0.01_deg', 'SOIL_soc_60.100cm_mean_0.01_deg',\n",
       "       'MODIS_2000.2020_monthly_mean_surface_reflectance_band_01_._month_m1',\n",
       "       'MODIS_2000.2020_monthly_mean_surface_reflectance_band_02_._month_m1',\n",
       "       'MODIS_2000.2020_monthly_mean_surface_reflectance_band_03_._month_m1',\n",
       "       'MODIS_2000.2020_monthly_mean_surface_reflectance_band_04_._month_m1',\n",
       "       'MODIS_2000.2020_monthly_mean_surface_reflectance_band_05_._month_m1',\n",
       "       'MODIS_2000.2020_monthly_mean_surface_reflectance_band_01_._month_m10',\n",
       "       'MODIS_2000.2020_monthly_mean_surface_reflectance_band_02_._month_m10',\n",
       "       'MODIS_2000.2020_monthly_mean_surface_reflectance_band_03_._month_m10',\n",
       "       'MODIS_2000.2020_monthly_mean_surface_reflectance_band_04_._month_m10',\n",
       "       'MODIS_2000.2020_monthly_mean_surface_reflectance_band_05_._month_m10',\n",
       "       'MODIS_2000.2020_monthly_mean_surface_reflectance_band_01_._month_m11',\n",
       "       'MODIS_2000.2020_monthly_mean_surface_reflectance_band_02_._month_m11',\n",
       "       'MODIS_2000.2020_monthly_mean_surface_reflectance_band_03_._month_m11',\n",
       "       'MODIS_2000.2020_monthly_mean_surface_reflectance_band_04_._month_m11',\n",
       "       'MODIS_2000.2020_monthly_mean_surface_reflectance_band_05_._month_m11',\n",
       "       'MODIS_2000.2020_monthly_mean_surface_reflectance_band_01_._month_m12',\n",
       "       'MODIS_2000.2020_monthly_mean_surface_reflectance_band_02_._month_m12',\n",
       "       'MODIS_2000.2020_monthly_mean_surface_reflectance_band_03_._month_m12',\n",
       "       'MODIS_2000.2020_monthly_mean_surface_reflectance_band_04_._month_m12',\n",
       "       'MODIS_2000.2020_monthly_mean_surface_reflectance_band_05_._month_m12',\n",
       "       'MODIS_2000.2020_monthly_mean_surface_reflectance_band_01_._month_m2',\n",
       "       'MODIS_2000.2020_monthly_mean_surface_reflectance_band_02_._month_m2',\n",
       "       'MODIS_2000.2020_monthly_mean_surface_reflectance_band_03_._month_m2',\n",
       "       'MODIS_2000.2020_monthly_mean_surface_reflectance_band_04_._month_m2',\n",
       "       'MODIS_2000.2020_monthly_mean_surface_reflectance_band_05_._month_m2',\n",
       "       'MODIS_2000.2020_monthly_mean_surface_reflectance_band_01_._month_m3',\n",
       "       'MODIS_2000.2020_monthly_mean_surface_reflectance_band_02_._month_m3',\n",
       "       'MODIS_2000.2020_monthly_mean_surface_reflectance_band_03_._month_m3',\n",
       "       'MODIS_2000.2020_monthly_mean_surface_reflectance_band_04_._month_m3',\n",
       "       'MODIS_2000.2020_monthly_mean_surface_reflectance_band_05_._month_m3',\n",
       "       'MODIS_2000.2020_monthly_mean_surface_reflectance_band_01_._month_m4',\n",
       "       'MODIS_2000.2020_monthly_mean_surface_reflectance_band_02_._month_m4',\n",
       "       'MODIS_2000.2020_monthly_mean_surface_reflectance_band_03_._month_m4',\n",
       "       'MODIS_2000.2020_monthly_mean_surface_reflectance_band_04_._month_m4',\n",
       "       'MODIS_2000.2020_monthly_mean_surface_reflectance_band_05_._month_m4',\n",
       "       'MODIS_2000.2020_monthly_mean_surface_reflectance_band_01_._month_m5',\n",
       "       'MODIS_2000.2020_monthly_mean_surface_reflectance_band_02_._month_m5',\n",
       "       'MODIS_2000.2020_monthly_mean_surface_reflectance_band_03_._month_m5',\n",
       "       'MODIS_2000.2020_monthly_mean_surface_reflectance_band_04_._month_m5',\n",
       "       'MODIS_2000.2020_monthly_mean_surface_reflectance_band_05_._month_m5',\n",
       "       'MODIS_2000.2020_monthly_mean_surface_reflectance_band_01_._month_m6',\n",
       "       'MODIS_2000.2020_monthly_mean_surface_reflectance_band_02_._month_m6',\n",
       "       'MODIS_2000.2020_monthly_mean_surface_reflectance_band_03_._month_m6',\n",
       "       'MODIS_2000.2020_monthly_mean_surface_reflectance_band_04_._month_m6',\n",
       "       'MODIS_2000.2020_monthly_mean_surface_reflectance_band_05_._month_m6',\n",
       "       'MODIS_2000.2020_monthly_mean_surface_reflectance_band_01_._month_m7',\n",
       "       'MODIS_2000.2020_monthly_mean_surface_reflectance_band_02_._month_m7',\n",
       "       'MODIS_2000.2020_monthly_mean_surface_reflectance_band_03_._month_m7',\n",
       "       'MODIS_2000.2020_monthly_mean_surface_reflectance_band_04_._month_m7',\n",
       "       'MODIS_2000.2020_monthly_mean_surface_reflectance_band_05_._month_m7',\n",
       "       'MODIS_2000.2020_monthly_mean_surface_reflectance_band_01_._month_m8',\n",
       "       'MODIS_2000.2020_monthly_mean_surface_reflectance_band_02_._month_m8',\n",
       "       'MODIS_2000.2020_monthly_mean_surface_reflectance_band_03_._month_m8',\n",
       "       'MODIS_2000.2020_monthly_mean_surface_reflectance_band_04_._month_m8',\n",
       "       'MODIS_2000.2020_monthly_mean_surface_reflectance_band_05_._month_m8',\n",
       "       'MODIS_2000.2020_monthly_mean_surface_reflectance_band_01_._month_m9',\n",
       "       'MODIS_2000.2020_monthly_mean_surface_reflectance_band_02_._month_m9',\n",
       "       'MODIS_2000.2020_monthly_mean_surface_reflectance_band_03_._month_m9',\n",
       "       'MODIS_2000.2020_monthly_mean_surface_reflectance_band_04_._month_m9',\n",
       "       'MODIS_2000.2020_monthly_mean_surface_reflectance_band_05_._month_m9',\n",
       "       'VOD_C_2002_2018_multiyear_mean_m01',\n",
       "       'VOD_C_2002_2018_multiyear_mean_m02',\n",
       "       'VOD_C_2002_2018_multiyear_mean_m03',\n",
       "       'VOD_C_2002_2018_multiyear_mean_m04',\n",
       "       'VOD_C_2002_2018_multiyear_mean_m05',\n",
       "       'VOD_C_2002_2018_multiyear_mean_m06',\n",
       "       'VOD_C_2002_2018_multiyear_mean_m07',\n",
       "       'VOD_C_2002_2018_multiyear_mean_m08',\n",
       "       'VOD_C_2002_2018_multiyear_mean_m09',\n",
       "       'VOD_C_2002_2018_multiyear_mean_m10',\n",
       "       'VOD_C_2002_2018_multiyear_mean_m11',\n",
       "       'VOD_C_2002_2018_multiyear_mean_m12',\n",
       "       'VOD_Ku_1987_2017_multiyear_mean_m01',\n",
       "       'VOD_Ku_1987_2017_multiyear_mean_m02',\n",
       "       'VOD_Ku_1987_2017_multiyear_mean_m03',\n",
       "       'VOD_Ku_1987_2017_multiyear_mean_m04',\n",
       "       'VOD_Ku_1987_2017_multiyear_mean_m05',\n",
       "       'VOD_Ku_1987_2017_multiyear_mean_m06',\n",
       "       'VOD_Ku_1987_2017_multiyear_mean_m07',\n",
       "       'VOD_Ku_1987_2017_multiyear_mean_m08',\n",
       "       'VOD_Ku_1987_2017_multiyear_mean_m09',\n",
       "       'VOD_Ku_1987_2017_multiyear_mean_m10',\n",
       "       'VOD_Ku_1987_2017_multiyear_mean_m11',\n",
       "       'VOD_Ku_1987_2017_multiyear_mean_m12',\n",
       "       'VOD_X_1997_2018_multiyear_mean_m01',\n",
       "       'VOD_X_1997_2018_multiyear_mean_m02',\n",
       "       'VOD_X_1997_2018_multiyear_mean_m03',\n",
       "       'VOD_X_1997_2018_multiyear_mean_m04',\n",
       "       'VOD_X_1997_2018_multiyear_mean_m05',\n",
       "       'VOD_X_1997_2018_multiyear_mean_m06',\n",
       "       'VOD_X_1997_2018_multiyear_mean_m07',\n",
       "       'VOD_X_1997_2018_multiyear_mean_m08',\n",
       "       'VOD_X_1997_2018_multiyear_mean_m09',\n",
       "       'VOD_X_1997_2018_multiyear_mean_m10',\n",
       "       'VOD_X_1997_2018_multiyear_mean_m11',\n",
       "       'VOD_X_1997_2018_multiyear_mean_m12'], dtype=object)"
      ]
     },
     "execution_count": 17,
     "metadata": {},
     "output_type": "execute_result"
    }
   ],
   "source": [
    "X_full.columns.values"
   ]
  },
  {
   "cell_type": "code",
   "execution_count": 21,
   "metadata": {},
   "outputs": [],
   "source": [
    "FEATURE_COLS = X_full.columns.values\n",
    "\n",
    "# Extract feature importances from each LightGBM estimator\n",
    "feature_importances = np.zeros((len(FEATURE_COLS), len(multi_output_model.estimators_)))\n",
    "\n",
    "for i, estimator in enumerate(multi_output_model.estimators_):\n",
    "    feature_importances[:, i] = estimator.feature_importances_\n",
    "\n",
    "# Aggregate the feature importances (mean or sum, depending on preference)\n",
    "mean_feature_importances = np.mean(feature_importances, axis=1)\n",
    "\n",
    "# Print feature importances\n",
    "data = {}\n",
    "for feature_name, importance in zip(FEATURE_COLS, mean_feature_importances):\n",
    "    data[feature_name]  = importance"
   ]
  },
  {
   "cell_type": "code",
   "execution_count": 44,
   "metadata": {},
   "outputs": [],
   "source": [
    "tf =pd.DataFrame(data,index = [\"Value\"]).T"
   ]
  },
  {
   "cell_type": "code",
   "execution_count": 67,
   "metadata": {},
   "outputs": [
    {
     "name": "stdout",
     "output_type": "stream",
     "text": [
      "'WORLDCLIM_BIO1_annual_mean_temperature',\n",
      "'WORLDCLIM_BIO13.BIO14_delta_precipitation_of_wettest_and_dryest_month',\n",
      "'WORLDCLIM_BIO15_precipitation_seasonality',\n",
      "'WORLDCLIM_BIO4_temperature_seasonality',\n",
      "'SOIL_ocd_100.200cm_mean_0.01_deg',\n",
      "'WORLDCLIM_BIO12_annual_precipitation',\n",
      "'WORLDCLIM_BIO7_temperature_annual_range',\n",
      "'SOIL_cec_0.5cm_mean_0.01_deg',\n",
      "'SOIL_nitrogen_0.5cm_mean_0.01_deg',\n",
      "'SOIL_ocd_60.100cm_mean_0.01_deg',\n",
      "'SOIL_ocd_30.60cm_mean_0.01_deg',\n",
      "'SOIL_clay_100.200cm_mean_0.01_deg',\n",
      "'SOIL_soc_100.200cm_mean_0.01_deg',\n",
      "'SOIL_nitrogen_100.200cm_mean_0.01_deg',\n",
      "'SOIL_cec_100.200cm_mean_0.01_deg',\n",
      "'SOIL_clay_15.30cm_mean_0.01_deg',\n",
      "'SOIL_soc_60.100cm_mean_0.01_deg',\n",
      "'MODIS_2000.2020_monthly_mean_surface_reflectance_band_02_._month_m10',\n",
      "'SOIL_nitrogen_30.60cm_mean_0.01_deg',\n",
      "'SOIL_clay_5.15cm_mean_0.01_deg',\n",
      "'MODIS_2000.2020_monthly_mean_surface_reflectance_band_02_._month_m4',\n",
      "'MODIS_2000.2020_monthly_mean_surface_reflectance_band_02_._month_m11',\n",
      "'SOIL_ocd_0.5cm_mean_0.01_deg',\n",
      "'SOIL_ocd_5.15cm_mean_0.01_deg',\n",
      "'SOIL_cfvo_100.200cm_mean_0.01_deg',\n",
      "'MODIS_2000.2020_monthly_mean_surface_reflectance_band_02_._month_m5',\n",
      "'MODIS_2000.2020_monthly_mean_surface_reflectance_band_02_._month_m6',\n",
      "'SOIL_cfvo_30.60cm_mean_0.01_deg',\n",
      "'SOIL_cfvo_0.5cm_mean_0.01_deg',\n",
      "'SOIL_soc_15.30cm_mean_0.01_deg',\n",
      "'SOIL_nitrogen_15.30cm_mean_0.01_deg',\n",
      "'SOIL_nitrogen_5.15cm_mean_0.01_deg',\n",
      "'SOIL_clay_0.5cm_mean_0.01_deg',\n",
      "'SOIL_nitrogen_60.100cm_mean_0.01_deg',\n",
      "'SOIL_soc_0.5cm_mean_0.01_deg',\n",
      "'SOIL_ocd_15.30cm_mean_0.01_deg',\n",
      "'SOIL_ocs_0.30cm_mean_0.01_deg',\n",
      "'SOIL_clay_30.60cm_mean_0.01_deg',\n",
      "'MODIS_2000.2020_monthly_mean_surface_reflectance_band_02_._month_m3',\n",
      "'SOIL_cfvo_15.30cm_mean_0.01_deg',\n",
      "'SOIL_silt_100.200cm_mean_0.01_deg',\n",
      "'MODIS_2000.2020_monthly_mean_surface_reflectance_band_02_._month_m8',\n",
      "'SOIL_soc_30.60cm_mean_0.01_deg',\n",
      "'SOIL_cfvo_5.15cm_mean_0.01_deg',\n",
      "'MODIS_2000.2020_monthly_mean_surface_reflectance_band_02_._month_m12',\n",
      "'MODIS_2000.2020_monthly_mean_surface_reflectance_band_05_._month_m10',\n",
      "'SOIL_silt_0.5cm_mean_0.01_deg',\n",
      "'MODIS_2000.2020_monthly_mean_surface_reflectance_band_02_._month_m7',\n",
      "'SOIL_sand_100.200cm_mean_0.01_deg',\n",
      "'MODIS_2000.2020_monthly_mean_surface_reflectance_band_05_._month_m3',\n",
      "'MODIS_2000.2020_monthly_mean_surface_reflectance_band_05_._month_m12',\n"
     ]
    }
   ],
   "source": [
    "for i,row in tf.sort_values(by=[\"Value\"],ascending = False).iterrows():\n",
    "    if row[\"Value\"] >= 200:\n",
    "        print(f\"'{row.name}',\")\n"
   ]
  },
  {
   "cell_type": "code",
   "execution_count": 66,
   "metadata": {},
   "outputs": [
    {
     "name": "stdout",
     "output_type": "stream",
     "text": [
      "'WORLDCLIM_BIO1_annual_mean_temperature\n"
     ]
    }
   ],
   "source": [
    "print(f\"'{tf.iloc[0].name}\")"
   ]
  },
  {
   "cell_type": "code",
   "execution_count": null,
   "metadata": {},
   "outputs": [],
   "source": []
  }
 ],
 "metadata": {
  "kernelspec": {
   "display_name": "keras-jax",
   "language": "python",
   "name": "python3"
  },
  "language_info": {
   "codemirror_mode": {
    "name": "ipython",
    "version": 3
   },
   "file_extension": ".py",
   "mimetype": "text/x-python",
   "name": "python",
   "nbconvert_exporter": "python",
   "pygments_lexer": "ipython3",
   "version": "3.10.13"
  }
 },
 "nbformat": 4,
 "nbformat_minor": 2
}
