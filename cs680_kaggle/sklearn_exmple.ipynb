{
 "cells": [
  {
   "cell_type": "code",
   "execution_count": 1,
   "metadata": {},
   "outputs": [
    {
     "name": "stdout",
     "output_type": "stream",
     "text": [
      "Pipe Scaled:  [1892.]\n",
      "Pipe Unscaled:  [-699.6]\n",
      "----------------------\n",
      "Reg Scaled:  [1892.]\n",
      "Scaled Coefficents: [199.  -0.]\n",
      "Reg Unscaled:  [-699.6]\n",
      "Unscaled Coefficents: [  0.     -15.9936]\n"
     ]
    },
    {
     "name": "stderr",
     "output_type": "stream",
     "text": [
      "/home/prajwal/anaconda3/envs/pytorch_gpu/lib/python3.12/site-packages/sklearn/base.py:493: UserWarning: X does not have valid feature names, but RobustScaler was fitted with feature names\n",
      "  warnings.warn(\n",
      "/home/prajwal/anaconda3/envs/pytorch_gpu/lib/python3.12/site-packages/sklearn/base.py:493: UserWarning: X does not have valid feature names, but Lasso was fitted with feature names\n",
      "  warnings.warn(\n",
      "/home/prajwal/anaconda3/envs/pytorch_gpu/lib/python3.12/site-packages/sklearn/base.py:493: UserWarning: X does not have valid feature names, but RobustScaler was fitted with feature names\n",
      "  warnings.warn(\n",
      "/home/prajwal/anaconda3/envs/pytorch_gpu/lib/python3.12/site-packages/sklearn/base.py:493: UserWarning: X does not have valid feature names, but Lasso was fitted with feature names\n",
      "  warnings.warn(\n"
     ]
    }
   ],
   "source": [
    "import pandas as pd\n",
    "from sklearn.linear_model import Lasso\n",
    "from sklearn.model_selection import train_test_split\n",
    "from sklearn.pipeline import Pipeline\n",
    "from sklearn.preprocessing import RobustScaler\n",
    "\n",
    "data = [[100, 1, 50],[500 , 3, 25],[1000 , 10, 100]]\n",
    "df = pd.DataFrame(data,columns=['Cost','People', 'Supplies'])\n",
    "\n",
    "X = df[['People', 'Supplies']]\n",
    "y = df[['Cost']]\n",
    "\n",
    "#Split\n",
    "X_train,X_test,y_train,y_test = train_test_split(X,y,random_state=0)\n",
    "\n",
    "#Pipeline\n",
    "pipeline_scaled = Pipeline([('scale', RobustScaler()),\n",
    "                     ('alg', Lasso(random_state=0))])\n",
    "\n",
    "pipeline_unscaled = Pipeline([('alg', Lasso(random_state=0))])\n",
    "\n",
    "clf1 = pipeline_scaled.fit(X_train,y_train)\n",
    "clf2 = pipeline_unscaled.fit(X_train,y_train)\n",
    "\n",
    "\n",
    "#Pipeline predict example \n",
    "example = [[10,100]]\n",
    "print('Pipe Scaled: ', clf1.predict(example))\n",
    "print('Pipe Unscaled: ',clf2.predict(example))\n",
    "\n",
    "#------------------------------------------------\n",
    "\n",
    "rs = RobustScaler()\n",
    "reg = Lasso(random_state=0)\n",
    "# Scale the taining data \n",
    "X_train_scaled = rs.fit_transform(X_train)\n",
    "reg.fit(X_train_scaled, y_train)\n",
    "# Scale the example\n",
    "example_scaled = rs.transform(example)\n",
    "# Predict using the scaled data\n",
    "print('----------------------')\n",
    "print('Reg Scaled: ', reg.predict(example_scaled))\n",
    "print('Scaled Coefficents:',reg.coef_)\n",
    "\n",
    "#------------------------------------------------\n",
    "reg.fit(X_train, y_train)\n",
    "print('Reg Unscaled: ', reg.predict(example))\n",
    "print('Unscaled Coefficents:',reg.coef_)\n"
   ]
  },
  {
   "cell_type": "code",
   "execution_count": 2,
   "metadata": {},
   "outputs": [
    {
     "data": {
      "text/plain": [
       "array([[ 3., 25.],\n",
       "       [ 1., 50.]])"
      ]
     },
     "execution_count": 2,
     "metadata": {},
     "output_type": "execute_result"
    }
   ],
   "source": [
    "pipeline_scaled['scale'].inverse_transform(X_train_scaled)"
   ]
  },
  {
   "cell_type": "code",
   "execution_count": 4,
   "metadata": {},
   "outputs": [
    {
     "ename": "TypeError",
     "evalue": "_SetOutputMixin.set_output() got an unexpected keyword argument 'inverse_transform'",
     "output_type": "error",
     "traceback": [
      "\u001b[0;31m---------------------------------------------------------------------------\u001b[0m",
      "\u001b[0;31mTypeError\u001b[0m                                 Traceback (most recent call last)",
      "Cell \u001b[0;32mIn[4], line 6\u001b[0m\n\u001b[1;32m      2\u001b[0m \u001b[38;5;28;01mfrom\u001b[39;00m \u001b[38;5;21;01msklearn\u001b[39;00m\u001b[38;5;21;01m.\u001b[39;00m\u001b[38;5;21;01mdatasets\u001b[39;00m \u001b[38;5;28;01mimport\u001b[39;00m load_breast_cancer\n\u001b[1;32m      4\u001b[0m X, _ \u001b[38;5;241m=\u001b[39m load_breast_cancer(return_X_y\u001b[38;5;241m=\u001b[39m\u001b[38;5;28;01mTrue\u001b[39;00m, as_frame\u001b[38;5;241m=\u001b[39m\u001b[38;5;28;01mTrue\u001b[39;00m)\n\u001b[0;32m----> 6\u001b[0m scaler \u001b[38;5;241m=\u001b[39m StandardScaler()\u001b[38;5;241m.\u001b[39mset_output(\n\u001b[1;32m      7\u001b[0m \ttransform\u001b[38;5;241m=\u001b[39m\u001b[38;5;124m\"\u001b[39m\u001b[38;5;124mpandas\u001b[39m\u001b[38;5;124m\"\u001b[39m, inverse_transform\u001b[38;5;241m=\u001b[39m\u001b[38;5;124m\"\u001b[39m\u001b[38;5;124mpandas\u001b[39m\u001b[38;5;124m\"\u001b[39m\n\u001b[1;32m      8\u001b[0m )\u001b[38;5;241m.\u001b[39mfit(X)\n\u001b[1;32m      9\u001b[0m Xt \u001b[38;5;241m=\u001b[39m scaler\u001b[38;5;241m.\u001b[39mtransform(X)\n\u001b[1;32m     11\u001b[0m \u001b[38;5;28mprint\u001b[39m(scaler\u001b[38;5;241m.\u001b[39minverse_transform(Xt))\n",
      "\u001b[0;31mTypeError\u001b[0m: _SetOutputMixin.set_output() got an unexpected keyword argument 'inverse_transform'"
     ]
    }
   ],
   "source": [
    "from sklearn.preprocessing import StandardScaler\n",
    "from sklearn.datasets import load_breast_cancer\n",
    "\n",
    "X, _ = load_breast_cancer(return_X_y=True, as_frame=True)\n",
    "\n",
    "scaler = StandardScaler().set_output(\n",
    "\ttransform=\"pandas\", inverse_transform=\"pandas\"\n",
    ").fit(X)\n",
    "Xt = scaler.transform(X)\n",
    "\n",
    "print(scaler.inverse_transform(Xt))"
   ]
  },
  {
   "cell_type": "code",
   "execution_count": null,
   "metadata": {},
   "outputs": [],
   "source": []
  }
 ],
 "metadata": {
  "kernelspec": {
   "display_name": "pytorch_gpu",
   "language": "python",
   "name": "python3"
  },
  "language_info": {
   "codemirror_mode": {
    "name": "ipython",
    "version": 3
   },
   "file_extension": ".py",
   "mimetype": "text/x-python",
   "name": "python",
   "nbconvert_exporter": "python",
   "pygments_lexer": "ipython3",
   "version": "3.12.2"
  }
 },
 "nbformat": 4,
 "nbformat_minor": 2
}
