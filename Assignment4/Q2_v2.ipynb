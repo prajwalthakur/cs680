{
 "cells": [
  {
   "cell_type": "markdown",
   "metadata": {},
   "source": [
    "# Q1"
   ]
  },
  {
   "cell_type": "code",
   "execution_count": 2,
   "metadata": {},
   "outputs": [
    {
     "name": "stdout",
     "output_type": "stream",
     "text": [
      "GPU is not detected. Make sure you have chosen the right runtime type\n"
     ]
    }
   ],
   "source": [
    "import torch\n",
    "from torch import nn, optim, autograd\n",
    "import torchvision\n",
    "import torchvision.transforms as transforms\n",
    "import matplotlib.pyplot as plt\n",
    "import torchvision.utils as vutils\n",
    "from dataclasses import dataclass\n",
    "import time\n",
    "import sys\n",
    "import numpy as np\n",
    "%matplotlib inline\n",
    "torch.set_num_threads(1)\n",
    "torch.manual_seed(1)\n",
    "\n",
    "\n",
    "device = torch.device(\"cpu\") #torch.device(\"cuda:0\") if torch.cuda.is_available() else torch.device(\"cpu\") #\n",
    "\n",
    "if device == torch.device(\"cuda:0\"):\n",
    "  print('Everything looks good; continue')\n",
    "else:\n",
    "  # It is OK if you cannot connect to a GPU. In this case, training the model for\n",
    "  # 2 epoch is sufficient to get full mark. (NOTE THAT 2 epoch takes approximately 1.5 hours to train for CPU)\n",
    "  print('GPU is not detected. Make sure you have chosen the right runtime type')"
   ]
  },
  {
   "cell_type": "code",
   "execution_count": 3,
   "metadata": {},
   "outputs": [],
   "source": [
    "@dataclass\n",
    "class GMM_hp:\n",
    "    lambda_ : float          =  0.5\n",
    "    mu      =  [1,-1]\n",
    "    sigma       = [0.5,0.5]\n",
    "\n",
    "        \n",
    "hp = GMM_hp()"
   ]
  },
  {
   "cell_type": "code",
   "execution_count": 4,
   "metadata": {},
   "outputs": [
    {
     "data": {
      "image/png": "[encoded data removed]",
      "text/plain": [
       "<Figure size 640x480 with 1 Axes>"
      ]
     },
     "metadata": {},
     "output_type": "display_data"
    }
   ],
   "source": [
    "import matplotlib.pyplot as plt\n",
    "def GMMsample(gmm:GMM_hp, n=1000, b=50):\n",
    "    U_ = torch.rand(size=(n,), device=device)\n",
    "    mask = U_ < gmm.lambda_\n",
    "    S1 = torch.randn(size=U_.shape,device=device)*gmm.sigma[0] + gmm.mu[0]\n",
    "    S2 = torch.randn(size=U_.shape,device=device)*gmm.sigma[1] + gmm.mu[1]\n",
    "    samples = torch.where(mask, S1, S2)\n",
    "    # hist = torch.histc(samples, bins = b,min = 0, max = 1) #torchist.histogramdd(samples,bins=b,low=None , upp = None) #\n",
    "    return samples\n",
    "\n",
    "bins = 100\n",
    "number_samples =1000\n",
    "samples = GMMsample(hp,n=number_samples , b=bins)\n",
    "n, bins, patches=plt.hist(samples,bins,facecolor='blue', alpha=0.5)\n",
    "plt.savefig('gmmSample.png')\n",
    "plt.show()"
   ]
  },
  {
   "cell_type": "markdown",
   "metadata": {},
   "source": [
    "# Q2"
   ]
  },
  {
   "cell_type": "code",
   "execution_count": 5,
   "metadata": {},
   "outputs": [
    {
     "data": {
      "image/png": "[encoded data removed]",
      "text/plain": [
       "<Figure size 640x480 with 1 Axes>"
      ]
     },
     "metadata": {},
     "output_type": "display_data"
    }
   ],
   "source": [
    "import matplotlib.pyplot as plt\n",
    "import torchist\n",
    "def GMMinv(X , gmm:GMM_hp, b=50):\n",
    "    \n",
    "    two_  = torch.tensor(2, dtype=torch.int8)\n",
    "    # 1) cdf of GMM w_1*F1 + w_2*F2 ref : https://stackoverflow.com/questions/48647616/scikitlearn-how-can-i-get-cdf-of-a-gaussian-mixture-model\n",
    "    \n",
    "    # 1a CDF of F1 and F2 \n",
    "    # ref1 : https://www.milefoot.com/math/stat/pdfc-normal.htm#:~:text=With%20this%20approach%2C%20the%20Gaussian,(x%E2%88%9A2)%5D.\n",
    "    # ref2 : https://www.probabilitycourse.com/chapter4/4_2_3_normal.php#:~:text=.-,To%20find%20the%20CDF,-of\n",
    "    F1 = 0.5 * (1 + torch.erf((X - gmm.mu[0]) / (gmm.sigma[0] *two_)))  # mixure parameters are given \n",
    "    F2 =  0.5 * (1 + torch.erf((X - gmm.mu[1]) / (gmm.sigma[1] *two_)))\n",
    "    cdf_GMM = ((gmm.lambda_)/gmm.sigma[0])*F1        +     ( (1-gmm.lambda_)/gmm.sigma[1] )*F2\n",
    "    \n",
    "    \n",
    "    # 2) calculating inverse cdf of standard normal distribution\n",
    "    p = torch.clamp(cdf_GMM, 1e-9, 1 - 1e-9)    # for numerical satbility \n",
    "    z = torch.sqrt(two_) * torch.erfinv(2 * p - 1) # ref:https://stats.stackexchange.com/questions/187828/how-are-the-error-function-and-standard-normal-distribution-function-related\n",
    "    return z\n",
    "\n",
    "bins = 1000\n",
    "number_samples =10000\n",
    "samples = GMMsample(hp,n=number_samples , b=bins)\n",
    "inverse_dist = GMMinv(samples, hp, b=bins)\n",
    "n, bins, patches=plt.hist(inverse_dist,bins,facecolor='blue', alpha=0.5,range=(-5,5))\n",
    "plt.title('Inverse Transform Sampling')\n",
    "plt.savefig('gmminv.png')\n",
    "# plt.show()"
   ]
  },
  {
   "cell_type": "markdown",
   "metadata": {},
   "source": [
    "# Q3"
   ]
  },
  {
   "cell_type": "code",
   "execution_count": 60,
   "metadata": {},
   "outputs": [],
   "source": [
    "import matplotlib.pyplot as plt\n",
    "import torchist\n",
    "import pdb\n",
    "\n",
    "def cdf_normal_distribution(p):\n",
    "    two_  = torch.tensor(2, dtype=torch.int8)\n",
    "    F1 = 0.5 * (1 + torch.erf(( p  ) / ( two_)))  # mixure parameters are given \n",
    "    return F1\n",
    "\n",
    "def cdf_gmm(p , gmm:GMM_hp = hp ):\n",
    "    two_  = torch.tensor(2, dtype=torch.int8)\n",
    "    F1 = 0.5 * (1 + torch.erf(( p  - gmm.mu[0]) / (gmm.sigma[0] *two_)))  # mixure parameters are given \n",
    "    F2 =  0.5 * (1 + torch.erf(( p  - gmm.mu[1]) / (gmm.sigma[1] *two_)))\n",
    "    cdf_GMM = ((gmm.lambda_)/gmm.sigma[0])*F1        +     ( (1-gmm.lambda_)/gmm.sigma[1] )*F2\n",
    "    return cdf_GMM\n",
    "def BinarySearch(F, u, lb=-100, ub=100, maxiter=100, tol=1e-5):\n",
    "    lb_ = lb\n",
    "    ub_ = ub\n",
    "    def set_lower_bound(F,u,lb_,ub_):\n",
    "        #pdb.set_trace()\n",
    "        while F(lb_)> u :\n",
    "            print(lb_ , F(lb_), u)\n",
    "            ub_ = lb_\n",
    "            lb_ =2*lb_\n",
    "        #print(\"in lower bound\", lb_,ub_)\n",
    "        return lb_,ub_\n",
    "    \n",
    "    def set_upper_bound(F,u,lb_,ub_):\n",
    "        while F(ub_)<u:\n",
    "            lb_ = ub_ \n",
    "            ub_ = 2*ub_\n",
    "        #print(\"in upper bound\", lb_,ub_)\n",
    "        return lb_,ub_\n",
    "   \n",
    "    lb_,ub_ = set_lower_bound(F,u,lb_,ub_)\n",
    "    lb_,ub_ = set_upper_bound(F,u,lb_,ub_)\n",
    "    #print(lb_,ub_)\n",
    "    for i in range(maxiter.item()):\n",
    "        #print(i)\n",
    "        x = (lb_ +  ub_)/2\n",
    "        t = F(x)\n",
    "        if t> u:\n",
    "            ub_ = x\n",
    "        else:\n",
    "            lb_ = x\n",
    "        if torch.abs(t-u)<tol :\n",
    "            break\n",
    "    return x\n"
   ]
  },
  {
   "cell_type": "code",
   "execution_count": 61,
   "metadata": {},
   "outputs": [
    {
     "data": {
      "text/plain": [
       "[<matplotlib.lines.Line2D at 0x70097100c530>]"
      ]
     },
     "execution_count": 61,
     "metadata": {},
     "output_type": "execute_result"
    },
    {
     "data": {
      "image/png": "[encoded data removed]",
      "text/plain": [
       "<Figure size 640x480 with 1 Axes>"
      ]
     },
     "metadata": {},
     "output_type": "display_data"
    }
   ],
   "source": [
    "\n",
    "Zs=  torch.arange(-5,5,0.1)\n",
    "x = torch.zeros_like(Zs)\n",
    "gmm = hp\n",
    "u = cdf_normal_distribution(Zs)\n",
    "for i in range(len(Zs)):\n",
    "    u  = cdf_normal_distribution(Zs[i])\n",
    "    x[i] = BinarySearch(cdf_gmm, u, lb=torch.tensor(-100, dtype=torch.float32), ub=torch.tensor(100, dtype=torch.float32), maxiter=torch.tensor(100, dtype=torch.int8), tol=torch.tensor(1e-5, dtype=torch.float32))\n",
    "    \n",
    "plt.plot(Zs,x)"
   ]
  },
  {
   "cell_type": "markdown",
   "metadata": {},
   "source": [
    "# Q4"
   ]
  },
  {
   "cell_type": "markdown",
   "metadata": {},
   "source": []
  },
  {
   "cell_type": "markdown",
   "metadata": {},
   "source": [
    "# Q5"
   ]
  },
  {
   "cell_type": "markdown",
   "metadata": {},
   "source": []
  }
 ],
 "metadata": {
  "kernelspec": {
   "display_name": "pytorch2",
   "language": "python",
   "name": "python3"
  },
  "language_info": {
   "codemirror_mode": {
    "name": "ipython",
    "version": 3
   },
   "file_extension": ".py",
   "mimetype": "text/x-python",
   "name": "python",
   "nbconvert_exporter": "python",
   "pygments_lexer": "ipython3",
   "version": "3.12.4"
  }
 },
 "nbformat": 4,
 "nbformat_minor": 2
}
