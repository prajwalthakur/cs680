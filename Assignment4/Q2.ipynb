{
 "cells": [
  {
   "cell_type": "markdown",
   "metadata": {},
   "source": [
    "# Q1"
   ]
  },
  {
   "cell_type": "code",
   "execution_count": 12,
   "metadata": {},
   "outputs": [
    {
     "name": "stdout",
     "output_type": "stream",
     "text": [
      "GPU is not detected. Make sure you have chosen the right runtime type\n"
     ]
    }
   ],
   "source": [
    "import torch\n",
    "from torch import nn, optim, autograd\n",
    "import torchvision\n",
    "import torchvision.transforms as transforms\n",
    "import matplotlib.pyplot as plt\n",
    "import torchvision.utils as vutils\n",
    "from dataclasses import dataclass\n",
    "import time\n",
    "import sys\n",
    "import numpy as np\n",
    "%matplotlib inline\n",
    "torch.set_num_threads(1)\n",
    "torch.manual_seed(1)\n",
    "\n",
    "\n",
    "device = torch.device(\"cpu\") #torch.device(\"cuda:0\") if torch.cuda.is_available() else torch.device(\"cpu\") #\n",
    "\n",
    "if device == torch.device(\"cuda:0\"):\n",
    "  print('Everything looks good; continue')\n",
    "else:\n",
    "  # It is OK if you cannot connect to a GPU. In this case, training the model for\n",
    "  # 2 epoch is sufficient to get full mark. (NOTE THAT 2 epoch takes approximately 1.5 hours to train for CPU)\n",
    "  print('GPU is not detected. Make sure you have chosen the right runtime type')"
   ]
  },
  {
   "cell_type": "code",
   "execution_count": 30,
   "metadata": {},
   "outputs": [],
   "source": [
    "@dataclass\n",
    "class GMM_hp:\n",
    "    lambda_ : float          =  0.5\n",
    "    mu      =  [1,-1]\n",
    "    sigma       = [0.5,0.5]\n",
    "\n",
    "        \n",
    "hp = GMM_hp()"
   ]
  },
  {
   "cell_type": "code",
   "execution_count": 31,
   "metadata": {},
   "outputs": [
    {
     "data": {
      "image/png": "[encoded data removed]",
      "text/plain": [
       "<Figure size 640x480 with 1 Axes>"
      ]
     },
     "metadata": {},
     "output_type": "display_data"
    }
   ],
   "source": [
    "import matplotlib.pyplot as plt\n",
    "def GMMsample(gmm:GMM_hp, n=1000, b=50):\n",
    "    U_ = torch.rand(size=(n,), device=device)\n",
    "    mask = U_ < gmm.lambda_\n",
    "    S1 = torch.randn(size=U_.shape,device=device)*gmm.sigma[0] + gmm.mu[0]\n",
    "    S2 = torch.randn(size=U_.shape,device=device)*gmm.sigma[1] + gmm.mu[1]\n",
    "    samples = torch.where(mask, S1, S2)\n",
    "    # hist = torch.histc(samples, bins = b,min = 0, max = 1) #torchist.histogramdd(samples,bins=b,low=None , upp = None) #\n",
    "    return samples\n",
    "\n",
    "bins = 50\n",
    "number_samples =1000\n",
    "samples = GMMsample(hp,n=number_samples , b=bins)\n",
    "n, bins, patches=plt.hist(samples,bins,facecolor='blue', alpha=0.5)\n",
    "plt.savefig('gmmSample.png')\n",
    "plt.show()"
   ]
  },
  {
   "cell_type": "markdown",
   "metadata": {},
   "source": [
    "# Q2"
   ]
  },
  {
   "cell_type": "code",
   "execution_count": 74,
   "metadata": {},
   "outputs": [
    {
     "data": {
      "image/png": "[encoded data removed]",
      "text/plain": [
       "<Figure size 640x480 with 1 Axes>"
      ]
     },
     "metadata": {},
     "output_type": "display_data"
    }
   ],
   "source": [
    "import matplotlib.pyplot as plt\n",
    "import torchist\n",
    "def GMMinv(X , gmm:GMM_hp, b=50):\n",
    "    \n",
    "    two_  = torch.tensor(2, dtype=torch.int8)\n",
    "    # 1) cdf of GMM w_1*F1 + w_2*F2 ref : https://stackoverflow.com/questions/48647616/scikitlearn-how-can-i-get-cdf-of-a-gaussian-mixture-model\n",
    "    \n",
    "    # 1a CDF of F1 and F2 \n",
    "    # ref1 : https://www.milefoot.com/math/stat/pdfc-normal.htm#:~:text=With%20this%20approach%2C%20the%20Gaussian,(x%E2%88%9A2)%5D.\n",
    "    # ref2 : https://www.probabilitycourse.com/chapter4/4_2_3_normal.php#:~:text=.-,To%20find%20the%20CDF,-of\n",
    "    F1 = 0.5 * (1 + torch.erf((X - gmm.mu[0]) / (gmm.sigma[0] *two_)))  # mixure parameters are given \n",
    "    F2 =  0.5 * (1 + torch.erf((X - gmm.mu[1]) / (gmm.sigma[1] *two_)))\n",
    "    cdf_GMM = ((gmm.lambda_)/gmm.sigma[0])*F1        +     ( (1-gmm.lambda_)/gmm.sigma[1] )*F2\n",
    "    \n",
    "    \n",
    "    # 2) calculating inverse cdf of standard normal distribution\n",
    "    p = torch.clamp(cdf_GMM, 1e-9, 1 - 1e-9)    # for numerical satbility \n",
    "    z = torch.sqrt(two_) * torch.erfinv(2 * p - 1) # ref:https://stats.stackexchange.com/questions/187828/how-are-the-error-function-and-standard-normal-distribution-function-related\n",
    "    return z\n",
    "\n",
    "bins = 1000\n",
    "number_samples =10000\n",
    "samples = GMMsample(hp,n=number_samples , b=bins)\n",
    "inverse_dist = GMMinv(samples, hp, b=bins)\n",
    "n, bins, patches=plt.hist(inverse_dist,bins,facecolor='blue', alpha=0.5,range=(-5,5))\n",
    "plt.title('Inverse Transform Sampling')\n",
    "plt.savefig('gmminv.png')\n",
    "# plt.show()"
   ]
  },
  {
   "cell_type": "markdown",
   "metadata": {},
   "source": [
    "# Q3"
   ]
  },
  {
   "cell_type": "code",
   "execution_count": null,
   "metadata": {},
   "outputs": [],
   "source": [
    "import matplotlib.pyplot as plt\n",
    "import torchist\n",
    "def BinarySearch(F, u, lb=-100, ub=100, maxiter=100, tol=1e-5):\n",
    "    \n",
    "    return z\n",
    "\n",
    "bins = 1000\n",
    "number_samples =10000\n",
    "samples = GMMsample(hp,n=number_samples , b=bins)\n",
    "inverse_dist = GMMinv(samples, hp, b=bins)\n",
    "n, bins, patches=plt.hist(inverse_dist,bins,facecolor='blue', alpha=0.5,range=(-5,5))\n",
    "plt.title('Inverse Transform Sampling')\n",
    "plt.savefig('gmminv.png')\n",
    "# plt.show()"
   ]
  },
  {
   "cell_type": "code",
   "execution_count": 79,
   "metadata": {},
   "outputs": [
    {
     "data": {
      "text/plain": [
       "tensor([-5.0000e+00, -4.9000e+00, -4.8000e+00, -4.7000e+00, -4.6000e+00,\n",
       "        -4.5000e+00, -4.4000e+00, -4.3000e+00, -4.2000e+00, -4.1000e+00,\n",
       "        -4.0000e+00, -3.9000e+00, -3.8000e+00, -3.7000e+00, -3.6000e+00,\n",
       "        -3.5000e+00, -3.4000e+00, -3.3000e+00, -3.2000e+00, -3.1000e+00,\n",
       "        -3.0000e+00, -2.9000e+00, -2.8000e+00, -2.7000e+00, -2.6000e+00,\n",
       "        -2.5000e+00, -2.4000e+00, -2.3000e+00, -2.2000e+00, -2.1000e+00,\n",
       "        -2.0000e+00, -1.9000e+00, -1.8000e+00, -1.7000e+00, -1.6000e+00,\n",
       "        -1.5000e+00, -1.4000e+00, -1.3000e+00, -1.2000e+00, -1.1000e+00,\n",
       "        -1.0000e+00, -9.0000e-01, -8.0000e-01, -7.0000e-01, -6.0000e-01,\n",
       "        -5.0000e-01, -4.0000e-01, -3.0000e-01, -2.0000e-01, -1.0000e-01,\n",
       "        -2.9802e-09,  1.0000e-01,  2.0000e-01,  3.0000e-01,  4.0000e-01,\n",
       "         5.0000e-01,  6.0000e-01,  7.0000e-01,  8.0000e-01,  9.0000e-01,\n",
       "         1.0000e+00,  1.1000e+00,  1.2000e+00,  1.3000e+00,  1.4000e+00,\n",
       "         1.5000e+00,  1.6000e+00,  1.7000e+00,  1.8000e+00,  1.9000e+00,\n",
       "         2.0000e+00,  2.1000e+00,  2.2000e+00,  2.3000e+00,  2.4000e+00,\n",
       "         2.5000e+00,  2.6000e+00,  2.7000e+00,  2.8000e+00,  2.9000e+00,\n",
       "         3.0000e+00,  3.1000e+00,  3.2000e+00,  3.3000e+00,  3.4000e+00,\n",
       "         3.5000e+00,  3.6000e+00,  3.7000e+00,  3.8000e+00,  3.9000e+00,\n",
       "         4.0000e+00,  4.1000e+00,  4.2000e+00,  4.3000e+00,  4.4000e+00,\n",
       "         4.5000e+00,  4.6000e+00,  4.7000e+00,  4.8000e+00,  4.9000e+00])"
      ]
     },
     "execution_count": 79,
     "metadata": {},
     "output_type": "execute_result"
    }
   ],
   "source": [
    "Zs=  torch.arange(-5,5,0.1)\n",
    "for i ,z in enumerate(Zs):\n",
    "    \n"
   ]
  },
  {
   "cell_type": "markdown",
   "metadata": {},
   "source": [
    "# Q4"
   ]
  },
  {
   "cell_type": "markdown",
   "metadata": {},
   "source": []
  },
  {
   "cell_type": "markdown",
   "metadata": {},
   "source": [
    "# Q5"
   ]
  },
  {
   "cell_type": "markdown",
   "metadata": {},
   "source": []
  }
 ],
 "metadata": {
  "kernelspec": {
   "display_name": "pytorch2",
   "language": "python",
   "name": "python3"
  },
  "language_info": {
   "codemirror_mode": {
    "name": "ipython",
    "version": 3
   },
   "file_extension": ".py",
   "mimetype": "text/x-python",
   "name": "python",
   "nbconvert_exporter": "python",
   "pygments_lexer": "ipython3",
   "version": "3.12.4"
  }
 },
 "nbformat": 4,
 "nbformat_minor": 2
}
